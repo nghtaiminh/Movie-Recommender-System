{
 "cells": [
  {
   "cell_type": "code",
   "execution_count": 3,
   "metadata": {
    "colab": {
     "base_uri": "https://localhost:8080/"
    },
    "executionInfo": {
     "elapsed": 5326,
     "status": "ok",
     "timestamp": 1639751253799,
     "user": {
      "displayName": "Luan Nguyen",
      "photoUrl": "https://lh3.googleusercontent.com/a-/AOh14GhXUOKNXLamlM5uNy_sScEB1mcsPUamZM3rX6cf=s64",
      "userId": "06060548113046134760"
     },
     "user_tz": -420
    },
    "id": "uTgVz2rC5Rqg",
    "outputId": "a26ae947-841a-4e2d-b7a8-df6a35add881"
   },
   "outputs": [
    {
     "name": "stdout",
     "output_type": "stream",
     "text": [
      "Collecting matrix_factorization\n",
      "  Using cached matrix_factorization-1.3.tar.gz (12 kB)\n",
      "  Preparing metadata (setup.py): started\n",
      "  Preparing metadata (setup.py): finished with status 'done'\n",
      "Requirement already satisfied: numba>=0.49.1 in c:\\users\\taiminh\\anaconda3\\lib\\site-packages (from matrix_factorization) (0.51.2)\n",
      "Requirement already satisfied: numpy>=1.18.5 in c:\\users\\taiminh\\anaconda3\\lib\\site-packages (from matrix_factorization) (1.20.1)\n",
      "Requirement already satisfied: pandas>=1.0.4 in c:\\users\\taiminh\\anaconda3\\lib\\site-packages (from matrix_factorization) (1.2.3)\n",
      "Requirement already satisfied: scikit-learn>=0.23.1 in c:\\users\\taiminh\\anaconda3\\lib\\site-packages (from matrix_factorization) (0.24.1)\n",
      "Requirement already satisfied: scipy>=1.4.1 in c:\\users\\taiminh\\anaconda3\\lib\\site-packages (from matrix_factorization) (1.6.1)\n",
      "Requirement already satisfied: llvmlite<0.35,>=0.34.0.dev0 in c:\\users\\taiminh\\anaconda3\\lib\\site-packages (from numba>=0.49.1->matrix_factorization) (0.34.0)\n",
      "Requirement already satisfied: setuptools in c:\\users\\taiminh\\anaconda3\\lib\\site-packages (from numba>=0.49.1->matrix_factorization) (52.0.0.post20210125)\n",
      "Requirement already satisfied: python-dateutil>=2.7.3 in c:\\users\\taiminh\\anaconda3\\lib\\site-packages (from pandas>=1.0.4->matrix_factorization) (2.8.1)\n",
      "Requirement already satisfied: pytz>=2017.3 in c:\\users\\taiminh\\anaconda3\\lib\\site-packages (from pandas>=1.0.4->matrix_factorization) (2021.1)\n",
      "Requirement already satisfied: joblib>=0.11 in c:\\users\\taiminh\\anaconda3\\lib\\site-packages (from scikit-learn>=0.23.1->matrix_factorization) (1.0.1)\n",
      "Requirement already satisfied: threadpoolctl>=2.0.0 in c:\\users\\taiminh\\anaconda3\\lib\\site-packages (from scikit-learn>=0.23.1->matrix_factorization) (2.1.0)\n",
      "Requirement already satisfied: six>=1.5 in c:\\users\\taiminh\\anaconda3\\lib\\site-packages (from python-dateutil>=2.7.3->pandas>=1.0.4->matrix_factorization) (1.15.0)\n",
      "Building wheels for collected packages: matrix-factorization\n",
      "  Building wheel for matrix-factorization (setup.py): started\n",
      "  Building wheel for matrix-factorization (setup.py): finished with status 'done'\n",
      "  Created wheel for matrix-factorization: filename=matrix_factorization-1.3-py3-none-any.whl size=16467 sha256=f8451f2bdcd9a3b4f09442f6675d0e0ecf19b3b8cd334b5056bcfe5e61cf1326\n",
      "  Stored in directory: c:\\users\\taiminh\\appdata\\local\\pip\\cache\\wheels\\f6\\34\\7b\\11dd792f060e9c2d7230855147d3bfadbd2b6bbcf5132dcbbc\n",
      "Successfully built matrix-factorization\n",
      "Installing collected packages: matrix-factorization\n",
      "Successfully installed matrix-factorization-1.3\n"
     ]
    },
    {
     "name": "stderr",
     "output_type": "stream",
     "text": [
      "WARNING: Error parsing requirements for pyodbc: [Errno 2] No such file or directory: 'c:\\\\users\\\\taiminh\\\\anaconda3\\\\lib\\\\site-packages\\\\pyodbc-4.0.27.dist-info\\\\METADATA'\n",
      "WARNING: You are using pip version 21.3; however, version 21.3.1 is available.\n",
      "You should consider upgrading via the 'c:\\users\\taiminh\\anaconda3\\python.exe -m pip install --upgrade pip' command.\n"
     ]
    }
   ],
   "source": [
    "!pip install matrix_factorization"
   ]
  },
  {
   "cell_type": "code",
   "execution_count": 4,
   "metadata": {
    "executionInfo": {
     "elapsed": 394,
     "status": "ok",
     "timestamp": 1639751340886,
     "user": {
      "displayName": "Luan Nguyen",
      "photoUrl": "https://lh3.googleusercontent.com/a-/AOh14GhXUOKNXLamlM5uNy_sScEB1mcsPUamZM3rX6cf=s64",
      "userId": "06060548113046134760"
     },
     "user_tz": -420
    },
    "id": "yvGFU4qBhb45"
   },
   "outputs": [],
   "source": [
    "NUM_EPOCHS = 100\n",
    "UPDATE_N_EPOCHS = 10"
   ]
  },
  {
   "cell_type": "code",
   "execution_count": 7,
   "metadata": {
    "executionInfo": {
     "elapsed": 470,
     "status": "ok",
     "timestamp": 1639754128284,
     "user": {
      "displayName": "Luan Nguyen",
      "photoUrl": "https://lh3.googleusercontent.com/a-/AOh14GhXUOKNXLamlM5uNy_sScEB1mcsPUamZM3rX6cf=s64",
      "userId": "06060548113046134760"
     },
     "user_tz": -420
    },
    "id": "wc4_znq81FBV"
   },
   "outputs": [],
   "source": [
    "# Data manipulation\n",
    "import numpy as np\n",
    "import pandas as pd\n",
    "\n",
    "# Modeling\n",
    "from matrix_factorization import BaselineModel, KernelMF, train_update_test_split\n",
    "from sklearn.metrics import mean_squared_error\n",
    "from sklearn.model_selection import train_test_split\n",
    "\n",
    "# Other\n",
    "import os\n",
    "import random\n",
    "import sys\n",
    "    \n",
    "# Saving model\n",
    "import pickle\n",
    "\n",
    "rand_seed = 2\n",
    "np.random.seed(rand_seed)\n",
    "random.seed(rand_seed)\n",
    "\n",
    "DATA_PATH = './data/Ratings.csv'\n",
    "COL_NAMES = ['user_id', 'item_id', 'rating']\n",
    "\n",
    "def read_data(data_path, col_names):\n",
    "    return pd.read_csv(data_path, header=0, names=col_names, usecols=[0, 1, 2])\n",
    "    \n",
    "def split_train_test(dataframe):\n",
    "    X = data[['user_id', 'item_id']]\n",
    "    y = data['rating']\n",
    "    X_train, X_test, y_train, y_test = train_test_split(X, y, test_size=0.2)\n",
    "    return (X_train, X_test, y_train, y_test)\n",
    "\n",
    "class MF:\n",
    "    def __init__(self, X_train, y_train, num_epochs=NUM_EPOCHS, save_model_path=None):\n",
    "        \"\"\"\n",
    "            save_model_path (str): * do not include \".pkl\"\n",
    "            * if save_model_path is not none, other parameters do not need any values\n",
    "        \"\"\"\n",
    "        if save_model_path is None:\n",
    "            self.model = self.__train(X_train, y_train, num_epochs)\n",
    "        else:\n",
    "            self = MF.load_model(save_model_path)\n",
    "\n",
    "    def __train(self, X_train, y_train, num_epochs):\n",
    "        matrix_fact = KernelMF(n_epochs = num_epochs, n_factors = 100, verbose = 1, lr = 0.001, reg = 0.2)\n",
    "        matrix_fact.fit(X_train, y_train)\n",
    "        return matrix_fact\n",
    "\n",
    "    def update(self, new_X_train: pd.DataFrame, new_y_train: pd.Series, n_epochs=UPDATE_N_EPOCHS):\n",
    "        \"\"\"\n",
    "            new_X_train: a dataframe with two cols: user_id, item_id\n",
    "            new_y_train: a series of rating corresponds to new_X_train\n",
    "        \"\"\"\n",
    "        self.model.update_users(new_X_train, new_y_train, lr=0.001, n_epochs=n_epochs, verbose=1)\n",
    "\n",
    "    def evaluate(self, X_test, y_test):\n",
    "        \"\"\"\n",
    "            compute RMSE on test data\n",
    "        \"\"\"\n",
    "        pred = self.model.predict(X_test)\n",
    "        rmse = mean_squared_error(y_test, pred, squared = False)\n",
    "        print(f'\\nTest RMSE: {rmse:.4f}')\n",
    "    \n",
    "    def recommend(self, user_id, items_known, numMovie: int):\n",
    "        return self.model.recommend(user=user_id, items_known=items_known, amount=numMovie)\n",
    "\n",
    "    def save_model(self, save_path):\n",
    "        \"\"\"\n",
    "            savePath (str): * do not include \".pkl\"\n",
    "        \"\"\"\n",
    "        file_to_store = open(save_path + \".pkl\", \"wb\")\n",
    "        pickle.dump(self, file_to_store)\n",
    "        file_to_store.close()\n",
    "\n",
    "    def load_model(save_path):\n",
    "        \"\"\"\n",
    "            savePath (str): * do not include \".pkl\"\n",
    "        \"\"\"\n",
    "        file_to_read = open(save_path + \".pkl\", \"rb\")\n",
    "        mf = pickle.load(file_to_read)\n",
    "        file_to_read.close()\n",
    "        return mf"
   ]
  },
  {
   "cell_type": "code",
   "execution_count": 8,
   "metadata": {
    "colab": {
     "base_uri": "https://localhost:8080/",
     "height": 423
    },
    "executionInfo": {
     "elapsed": 10,
     "status": "ok",
     "timestamp": 1639754129801,
     "user": {
      "displayName": "Luan Nguyen",
      "photoUrl": "https://lh3.googleusercontent.com/a-/AOh14GhXUOKNXLamlM5uNy_sScEB1mcsPUamZM3rX6cf=s64",
      "userId": "06060548113046134760"
     },
     "user_tz": -420
    },
    "id": "UrMC1g9S_BBt",
    "outputId": "579f6f34-f3d1-472b-ded9-ea0ac7354f1d"
   },
   "outputs": [
    {
     "data": {
      "text/html": [
       "<div>\n",
       "<style scoped>\n",
       "    .dataframe tbody tr th:only-of-type {\n",
       "        vertical-align: middle;\n",
       "    }\n",
       "\n",
       "    .dataframe tbody tr th {\n",
       "        vertical-align: top;\n",
       "    }\n",
       "\n",
       "    .dataframe thead th {\n",
       "        text-align: right;\n",
       "    }\n",
       "</style>\n",
       "<table border=\"1\" class=\"dataframe\">\n",
       "  <thead>\n",
       "    <tr style=\"text-align: right;\">\n",
       "      <th></th>\n",
       "      <th>user_id</th>\n",
       "      <th>item_id</th>\n",
       "      <th>rating</th>\n",
       "    </tr>\n",
       "  </thead>\n",
       "  <tbody>\n",
       "    <tr>\n",
       "      <th>0</th>\n",
       "      <td>1</td>\n",
       "      <td>110</td>\n",
       "      <td>1.0</td>\n",
       "    </tr>\n",
       "    <tr>\n",
       "      <th>1</th>\n",
       "      <td>1</td>\n",
       "      <td>147</td>\n",
       "      <td>4.5</td>\n",
       "    </tr>\n",
       "    <tr>\n",
       "      <th>2</th>\n",
       "      <td>1</td>\n",
       "      <td>858</td>\n",
       "      <td>5.0</td>\n",
       "    </tr>\n",
       "    <tr>\n",
       "      <th>3</th>\n",
       "      <td>1</td>\n",
       "      <td>1246</td>\n",
       "      <td>5.0</td>\n",
       "    </tr>\n",
       "    <tr>\n",
       "      <th>4</th>\n",
       "      <td>1</td>\n",
       "      <td>1968</td>\n",
       "      <td>4.0</td>\n",
       "    </tr>\n",
       "    <tr>\n",
       "      <th>...</th>\n",
       "      <td>...</td>\n",
       "      <td>...</td>\n",
       "      <td>...</td>\n",
       "    </tr>\n",
       "    <tr>\n",
       "      <th>996462</th>\n",
       "      <td>23624</td>\n",
       "      <td>1358</td>\n",
       "      <td>3.5</td>\n",
       "    </tr>\n",
       "    <tr>\n",
       "      <th>996463</th>\n",
       "      <td>23624</td>\n",
       "      <td>1392</td>\n",
       "      <td>4.0</td>\n",
       "    </tr>\n",
       "    <tr>\n",
       "      <th>996464</th>\n",
       "      <td>23624</td>\n",
       "      <td>1394</td>\n",
       "      <td>4.0</td>\n",
       "    </tr>\n",
       "    <tr>\n",
       "      <th>996465</th>\n",
       "      <td>23624</td>\n",
       "      <td>1914</td>\n",
       "      <td>3.5</td>\n",
       "    </tr>\n",
       "    <tr>\n",
       "      <th>996466</th>\n",
       "      <td>23624</td>\n",
       "      <td>2291</td>\n",
       "      <td>4.0</td>\n",
       "    </tr>\n",
       "  </tbody>\n",
       "</table>\n",
       "<p>996467 rows × 3 columns</p>\n",
       "</div>"
      ],
      "text/plain": [
       "        user_id  item_id  rating\n",
       "0             1      110     1.0\n",
       "1             1      147     4.5\n",
       "2             1      858     5.0\n",
       "3             1     1246     5.0\n",
       "4             1     1968     4.0\n",
       "...         ...      ...     ...\n",
       "996462    23624     1358     3.5\n",
       "996463    23624     1392     4.0\n",
       "996464    23624     1394     4.0\n",
       "996465    23624     1914     3.5\n",
       "996466    23624     2291     4.0\n",
       "\n",
       "[996467 rows x 3 columns]"
      ]
     },
     "execution_count": 8,
     "metadata": {},
     "output_type": "execute_result"
    }
   ],
   "source": [
    "data = read_data(DATA_PATH, COL_NAMES)\n",
    "data"
   ]
  },
  {
   "cell_type": "code",
   "execution_count": 23,
   "metadata": {
    "executionInfo": {
     "elapsed": 3,
     "status": "ok",
     "timestamp": 1639754131481,
     "user": {
      "displayName": "Luan Nguyen",
      "photoUrl": "https://lh3.googleusercontent.com/a-/AOh14GhXUOKNXLamlM5uNy_sScEB1mcsPUamZM3rX6cf=s64",
      "userId": "06060548113046134760"
     },
     "user_tz": -420
    },
    "id": "V1GZ-XEROkaM"
   },
   "outputs": [],
   "source": [
    "X_train, X_test, y_train, y_test = split_train_test(data)"
   ]
  },
  {
   "cell_type": "code",
   "execution_count": 24,
   "metadata": {
    "colab": {
     "base_uri": "https://localhost:8080/"
    },
    "executionInfo": {
     "elapsed": 68717,
     "status": "ok",
     "timestamp": 1639754201744,
     "user": {
      "displayName": "Luan Nguyen",
      "photoUrl": "https://lh3.googleusercontent.com/a-/AOh14GhXUOKNXLamlM5uNy_sScEB1mcsPUamZM3rX6cf=s64",
      "userId": "06060548113046134760"
     },
     "user_tz": -420
    },
    "id": "i-ba_t50GPDe",
    "outputId": "bdb8ccd5-868a-4baf-8ee8-516a63b59310"
   },
   "outputs": [
    {
     "name": "stdout",
     "output_type": "stream",
     "text": [
      "Epoch  1 / 100  -  train_rmse: 0.9733020323594145\n",
      "Epoch  2 / 100  -  train_rmse: 0.9476490603350869\n",
      "Epoch  3 / 100  -  train_rmse: 0.9327003300254094\n",
      "Epoch  4 / 100  -  train_rmse: 0.9224235170074027\n",
      "Epoch  5 / 100  -  train_rmse: 0.9147965722796519\n",
      "Epoch  6 / 100  -  train_rmse: 0.9087558628610237\n",
      "Epoch  7 / 100  -  train_rmse: 0.9039270279522201\n",
      "Epoch  8 / 100  -  train_rmse: 0.8998851152144685\n",
      "Epoch  9 / 100  -  train_rmse: 0.8963883452123106\n",
      "Epoch  10 / 100  -  train_rmse: 0.8934248352516264\n",
      "Epoch  11 / 100  -  train_rmse: 0.8909284630377061\n",
      "Epoch  12 / 100  -  train_rmse: 0.8885576539211111\n",
      "Epoch  13 / 100  -  train_rmse: 0.8865483996490582\n",
      "Epoch  14 / 100  -  train_rmse: 0.8846950696997883\n",
      "Epoch  15 / 100  -  train_rmse: 0.8830619896066283\n",
      "Epoch  16 / 100  -  train_rmse: 0.8815863922051093\n",
      "Epoch  17 / 100  -  train_rmse: 0.8801574367575242\n",
      "Epoch  18 / 100  -  train_rmse: 0.8790038319474636\n",
      "Epoch  19 / 100  -  train_rmse: 0.8777577393587419\n",
      "Epoch  20 / 100  -  train_rmse: 0.8767482386083839\n",
      "Epoch  21 / 100  -  train_rmse: 0.8758358130700967\n",
      "Epoch  22 / 100  -  train_rmse: 0.8748199726415147\n",
      "Epoch  23 / 100  -  train_rmse: 0.8739186225993083\n",
      "Epoch  24 / 100  -  train_rmse: 0.8731092949316692\n",
      "Epoch  25 / 100  -  train_rmse: 0.8723769950761544\n",
      "Epoch  26 / 100  -  train_rmse: 0.8716593535903945\n",
      "Epoch  27 / 100  -  train_rmse: 0.870988632933256\n",
      "Epoch  28 / 100  -  train_rmse: 0.8703618837353038\n",
      "Epoch  29 / 100  -  train_rmse: 0.8697943523563473\n",
      "Epoch  30 / 100  -  train_rmse: 0.8691973850831299\n",
      "Epoch  31 / 100  -  train_rmse: 0.8686059823820883\n",
      "Epoch  32 / 100  -  train_rmse: 0.8682346689894577\n",
      "Epoch  33 / 100  -  train_rmse: 0.8677241063567965\n",
      "Epoch  34 / 100  -  train_rmse: 0.8672009453715331\n",
      "Epoch  35 / 100  -  train_rmse: 0.8667374065667185\n",
      "Epoch  36 / 100  -  train_rmse: 0.8663124559806129\n",
      "Epoch  37 / 100  -  train_rmse: 0.8659118639293877\n",
      "Epoch  38 / 100  -  train_rmse: 0.8656535239995881\n",
      "Epoch  39 / 100  -  train_rmse: 0.8652449269941822\n",
      "Epoch  40 / 100  -  train_rmse: 0.8648445629837235\n",
      "Epoch  41 / 100  -  train_rmse: 0.864613749502533\n",
      "Epoch  42 / 100  -  train_rmse: 0.8642191056443633\n",
      "Epoch  43 / 100  -  train_rmse: 0.8639095353307432\n",
      "Epoch  44 / 100  -  train_rmse: 0.8634597620757921\n",
      "Epoch  45 / 100  -  train_rmse: 0.8632390616398503\n",
      "Epoch  46 / 100  -  train_rmse: 0.8630250731377267\n",
      "Epoch  47 / 100  -  train_rmse: 0.862713659791383\n",
      "Epoch  48 / 100  -  train_rmse: 0.8624047898725277\n",
      "Epoch  49 / 100  -  train_rmse: 0.8621553741034295\n",
      "Epoch  50 / 100  -  train_rmse: 0.8619567981794843\n",
      "Epoch  51 / 100  -  train_rmse: 0.8617644016354638\n",
      "Epoch  52 / 100  -  train_rmse: 0.8615274354863085\n",
      "Epoch  53 / 100  -  train_rmse: 0.8612445092670998\n",
      "Epoch  54 / 100  -  train_rmse: 0.8610729081998334\n",
      "Epoch  55 / 100  -  train_rmse: 0.8607594811528078\n",
      "Epoch  56 / 100  -  train_rmse: 0.8606928727583086\n",
      "Epoch  57 / 100  -  train_rmse: 0.8603672603749365\n",
      "Epoch  58 / 100  -  train_rmse: 0.8601907423464756\n",
      "Epoch  59 / 100  -  train_rmse: 0.8599956395403737\n",
      "Epoch  60 / 100  -  train_rmse: 0.8598411614070288\n",
      "Epoch  61 / 100  -  train_rmse: 0.859672039482951\n",
      "Epoch  62 / 100  -  train_rmse: 0.859501772895583\n",
      "Epoch  63 / 100  -  train_rmse: 0.8593012054965745\n",
      "Epoch  64 / 100  -  train_rmse: 0.8591608920895658\n",
      "Epoch  65 / 100  -  train_rmse: 0.858955906265608\n",
      "Epoch  66 / 100  -  train_rmse: 0.8588900121038598\n",
      "Epoch  67 / 100  -  train_rmse: 0.858668834899297\n",
      "Epoch  68 / 100  -  train_rmse: 0.8585611496584831\n",
      "Epoch  69 / 100  -  train_rmse: 0.858361086941921\n",
      "Epoch  70 / 100  -  train_rmse: 0.8582498252597661\n",
      "Epoch  71 / 100  -  train_rmse: 0.8581652957858982\n",
      "Epoch  72 / 100  -  train_rmse: 0.8580110940964514\n",
      "Epoch  73 / 100  -  train_rmse: 0.8578287240452717\n",
      "Epoch  74 / 100  -  train_rmse: 0.8577501971131798\n",
      "Epoch  75 / 100  -  train_rmse: 0.8576804908460799\n",
      "Epoch  76 / 100  -  train_rmse: 0.857499452990753\n",
      "Epoch  77 / 100  -  train_rmse: 0.8573088715998926\n",
      "Epoch  78 / 100  -  train_rmse: 0.8572409312540237\n",
      "Epoch  79 / 100  -  train_rmse: 0.8571120843245793\n",
      "Epoch  80 / 100  -  train_rmse: 0.857038691322991\n",
      "Epoch  81 / 100  -  train_rmse: 0.8568823401617542\n",
      "Epoch  82 / 100  -  train_rmse: 0.8567846460049136\n",
      "Epoch  83 / 100  -  train_rmse: 0.8566098842778767\n",
      "Epoch  84 / 100  -  train_rmse: 0.8566018042435719\n",
      "Epoch  85 / 100  -  train_rmse: 0.856467580674908\n",
      "Epoch  86 / 100  -  train_rmse: 0.8564006470775718\n",
      "Epoch  87 / 100  -  train_rmse: 0.8563109642956213\n",
      "Epoch  88 / 100  -  train_rmse: 0.8561824222044077\n",
      "Epoch  89 / 100  -  train_rmse: 0.8561041241905705\n",
      "Epoch  90 / 100  -  train_rmse: 0.8559985316695936\n",
      "Epoch  91 / 100  -  train_rmse: 0.8558895513102778\n",
      "Epoch  92 / 100  -  train_rmse: 0.8557996442198398\n",
      "Epoch  93 / 100  -  train_rmse: 0.8558072788654003\n",
      "Epoch  94 / 100  -  train_rmse: 0.8556388990533604\n",
      "Epoch  95 / 100  -  train_rmse: 0.8555084549812142\n",
      "Epoch  96 / 100  -  train_rmse: 0.8554773875374507\n",
      "Epoch  97 / 100  -  train_rmse: 0.8554423490688675\n",
      "Epoch  98 / 100  -  train_rmse: 0.855353732410499\n",
      "Epoch  99 / 100  -  train_rmse: 0.8551704210895431\n",
      "Epoch  100 / 100  -  train_rmse: 0.855194518181872\n"
     ]
    }
   ],
   "source": [
    "# create MF model and train\n",
    "mf = MF(X_train, y_train, num_epochs=NUM_EPOCHS)"
   ]
  },
  {
   "cell_type": "code",
   "execution_count": 26,
   "metadata": {
    "colab": {
     "base_uri": "https://localhost:8080/"
    },
    "executionInfo": {
     "elapsed": 436,
     "status": "ok",
     "timestamp": 1639754205699,
     "user": {
      "displayName": "Luan Nguyen",
      "photoUrl": "https://lh3.googleusercontent.com/a-/AOh14GhXUOKNXLamlM5uNy_sScEB1mcsPUamZM3rX6cf=s64",
      "userId": "06060548113046134760"
     },
     "user_tz": -420
    },
    "id": "rW6OU1kuWVOg",
    "outputId": "a297e45c-0dfd-468d-c15f-2731e76ff4a2"
   },
   "outputs": [
    {
     "name": "stdout",
     "output_type": "stream",
     "text": [
      "\n",
      "Test RMSE: 0.8799\n"
     ]
    }
   ],
   "source": [
    "mf.evaluate(X_test, y_test)"
   ]
  },
  {
   "cell_type": "code",
   "execution_count": null,
   "metadata": {
    "id": "0EoCPx_MgNXn"
   },
   "outputs": [],
   "source": [
    "user = 200\n",
    "items_known = data.query('user_id == @user')['item_id']\n",
    "recommendation = mf.recommend(user, items_known, numMovie=12)"
   ]
  },
  {
   "cell_type": "code",
   "execution_count": null,
   "metadata": {
    "colab": {
     "base_uri": "https://localhost:8080/",
     "height": 426
    },
    "executionInfo": {
     "elapsed": 19,
     "status": "ok",
     "timestamp": 1639735897419,
     "user": {
      "displayName": "Luan Nguyen",
      "photoUrl": "https://lh3.googleusercontent.com/a-/AOh14GhXUOKNXLamlM5uNy_sScEB1mcsPUamZM3rX6cf=s64",
      "userId": "06060548113046134760"
     },
     "user_tz": -420
    },
    "id": "vF44riAuiCR1",
    "outputId": "033d63df-f585-49a3-d478-4f8e8e0d4adc"
   },
   "outputs": [
    {
     "data": {
      "text/html": [
       "\n",
       "  <div id=\"df-8c8413ac-607c-44ed-98b7-a49134c02c1b\">\n",
       "    <div class=\"colab-df-container\">\n",
       "      <div>\n",
       "<style scoped>\n",
       "    .dataframe tbody tr th:only-of-type {\n",
       "        vertical-align: middle;\n",
       "    }\n",
       "\n",
       "    .dataframe tbody tr th {\n",
       "        vertical-align: top;\n",
       "    }\n",
       "\n",
       "    .dataframe thead th {\n",
       "        text-align: right;\n",
       "    }\n",
       "</style>\n",
       "<table border=\"1\" class=\"dataframe\">\n",
       "  <thead>\n",
       "    <tr style=\"text-align: right;\">\n",
       "      <th></th>\n",
       "      <th>user_id</th>\n",
       "      <th>item_id</th>\n",
       "      <th>rating_pred</th>\n",
       "    </tr>\n",
       "  </thead>\n",
       "  <tbody>\n",
       "    <tr>\n",
       "      <th>149</th>\n",
       "      <td>200</td>\n",
       "      <td>260</td>\n",
       "      <td>5.000000</td>\n",
       "    </tr>\n",
       "    <tr>\n",
       "      <th>114</th>\n",
       "      <td>200</td>\n",
       "      <td>318</td>\n",
       "      <td>4.764187</td>\n",
       "    </tr>\n",
       "    <tr>\n",
       "      <th>224</th>\n",
       "      <td>200</td>\n",
       "      <td>750</td>\n",
       "      <td>4.658534</td>\n",
       "    </tr>\n",
       "    <tr>\n",
       "      <th>104</th>\n",
       "      <td>200</td>\n",
       "      <td>4993</td>\n",
       "      <td>4.597836</td>\n",
       "    </tr>\n",
       "    <tr>\n",
       "      <th>258</th>\n",
       "      <td>200</td>\n",
       "      <td>608</td>\n",
       "      <td>4.589670</td>\n",
       "    </tr>\n",
       "    <tr>\n",
       "      <th>164</th>\n",
       "      <td>200</td>\n",
       "      <td>4226</td>\n",
       "      <td>4.489451</td>\n",
       "    </tr>\n",
       "    <tr>\n",
       "      <th>194</th>\n",
       "      <td>200</td>\n",
       "      <td>858</td>\n",
       "      <td>4.474746</td>\n",
       "    </tr>\n",
       "    <tr>\n",
       "      <th>343</th>\n",
       "      <td>200</td>\n",
       "      <td>2019</td>\n",
       "      <td>4.471256</td>\n",
       "    </tr>\n",
       "    <tr>\n",
       "      <th>86</th>\n",
       "      <td>200</td>\n",
       "      <td>296</td>\n",
       "      <td>4.464933</td>\n",
       "    </tr>\n",
       "    <tr>\n",
       "      <th>338</th>\n",
       "      <td>200</td>\n",
       "      <td>947</td>\n",
       "      <td>4.441132</td>\n",
       "    </tr>\n",
       "    <tr>\n",
       "      <th>1759</th>\n",
       "      <td>200</td>\n",
       "      <td>326</td>\n",
       "      <td>4.422044</td>\n",
       "    </tr>\n",
       "    <tr>\n",
       "      <th>688</th>\n",
       "      <td>200</td>\n",
       "      <td>909</td>\n",
       "      <td>4.405126</td>\n",
       "    </tr>\n",
       "  </tbody>\n",
       "</table>\n",
       "</div>\n",
       "      <button class=\"colab-df-convert\" onclick=\"convertToInteractive('df-8c8413ac-607c-44ed-98b7-a49134c02c1b')\"\n",
       "              title=\"Convert this dataframe to an interactive table.\"\n",
       "              style=\"display:none;\">\n",
       "        \n",
       "  <svg xmlns=\"http://www.w3.org/2000/svg\" height=\"24px\"viewBox=\"0 0 24 24\"\n",
       "       width=\"24px\">\n",
       "    <path d=\"M0 0h24v24H0V0z\" fill=\"none\"/>\n",
       "    <path d=\"M18.56 5.44l.94 2.06.94-2.06 2.06-.94-2.06-.94-.94-2.06-.94 2.06-2.06.94zm-11 1L8.5 8.5l.94-2.06 2.06-.94-2.06-.94L8.5 2.5l-.94 2.06-2.06.94zm10 10l.94 2.06.94-2.06 2.06-.94-2.06-.94-.94-2.06-.94 2.06-2.06.94z\"/><path d=\"M17.41 7.96l-1.37-1.37c-.4-.4-.92-.59-1.43-.59-.52 0-1.04.2-1.43.59L10.3 9.45l-7.72 7.72c-.78.78-.78 2.05 0 2.83L4 21.41c.39.39.9.59 1.41.59.51 0 1.02-.2 1.41-.59l7.78-7.78 2.81-2.81c.8-.78.8-2.07 0-2.86zM5.41 20L4 18.59l7.72-7.72 1.47 1.35L5.41 20z\"/>\n",
       "  </svg>\n",
       "      </button>\n",
       "      \n",
       "  <style>\n",
       "    .colab-df-container {\n",
       "      display:flex;\n",
       "      flex-wrap:wrap;\n",
       "      gap: 12px;\n",
       "    }\n",
       "\n",
       "    .colab-df-convert {\n",
       "      background-color: #E8F0FE;\n",
       "      border: none;\n",
       "      border-radius: 50%;\n",
       "      cursor: pointer;\n",
       "      display: none;\n",
       "      fill: #1967D2;\n",
       "      height: 32px;\n",
       "      padding: 0 0 0 0;\n",
       "      width: 32px;\n",
       "    }\n",
       "\n",
       "    .colab-df-convert:hover {\n",
       "      background-color: #E2EBFA;\n",
       "      box-shadow: 0px 1px 2px rgba(60, 64, 67, 0.3), 0px 1px 3px 1px rgba(60, 64, 67, 0.15);\n",
       "      fill: #174EA6;\n",
       "    }\n",
       "\n",
       "    [theme=dark] .colab-df-convert {\n",
       "      background-color: #3B4455;\n",
       "      fill: #D2E3FC;\n",
       "    }\n",
       "\n",
       "    [theme=dark] .colab-df-convert:hover {\n",
       "      background-color: #434B5C;\n",
       "      box-shadow: 0px 1px 3px 1px rgba(0, 0, 0, 0.15);\n",
       "      filter: drop-shadow(0px 1px 2px rgba(0, 0, 0, 0.3));\n",
       "      fill: #FFFFFF;\n",
       "    }\n",
       "  </style>\n",
       "\n",
       "      <script>\n",
       "        const buttonEl =\n",
       "          document.querySelector('#df-8c8413ac-607c-44ed-98b7-a49134c02c1b button.colab-df-convert');\n",
       "        buttonEl.style.display =\n",
       "          google.colab.kernel.accessAllowed ? 'block' : 'none';\n",
       "\n",
       "        async function convertToInteractive(key) {\n",
       "          const element = document.querySelector('#df-8c8413ac-607c-44ed-98b7-a49134c02c1b');\n",
       "          const dataTable =\n",
       "            await google.colab.kernel.invokeFunction('convertToInteractive',\n",
       "                                                     [key], {});\n",
       "          if (!dataTable) return;\n",
       "\n",
       "          const docLinkHtml = 'Like what you see? Visit the ' +\n",
       "            '<a target=\"_blank\" href=https://colab.research.google.com/notebooks/data_table.ipynb>data table notebook</a>'\n",
       "            + ' to learn more about interactive tables.';\n",
       "          element.innerHTML = '';\n",
       "          dataTable['output_type'] = 'display_data';\n",
       "          await google.colab.output.renderOutput(dataTable, element);\n",
       "          const docLink = document.createElement('div');\n",
       "          docLink.innerHTML = docLinkHtml;\n",
       "          element.appendChild(docLink);\n",
       "        }\n",
       "      </script>\n",
       "    </div>\n",
       "  </div>\n",
       "  "
      ],
      "text/plain": [
       "      user_id  item_id  rating_pred\n",
       "149       200      260     5.000000\n",
       "114       200      318     4.764187\n",
       "224       200      750     4.658534\n",
       "104       200     4993     4.597836\n",
       "258       200      608     4.589670\n",
       "164       200     4226     4.489451\n",
       "194       200      858     4.474746\n",
       "343       200     2019     4.471256\n",
       "86        200      296     4.464933\n",
       "338       200      947     4.441132\n",
       "1759      200      326     4.422044\n",
       "688       200      909     4.405126"
      ]
     },
     "execution_count": 10,
     "metadata": {},
     "output_type": "execute_result"
    }
   ],
   "source": [
    "recommendation"
   ]
  },
  {
   "cell_type": "code",
   "execution_count": null,
   "metadata": {
    "id": "uESd3W7NizBY"
   },
   "outputs": [],
   "source": [
    "user_item = pd.DataFrame(data={'user_id': [int('1')],\n",
    "                               'item_id': [int('102899')]})\n",
    "rating = pd.Series(data=[float('4.3')]) "
   ]
  },
  {
   "cell_type": "code",
   "execution_count": null,
   "metadata": {
    "colab": {
     "base_uri": "https://localhost:8080/"
    },
    "executionInfo": {
     "elapsed": 2856,
     "status": "ok",
     "timestamp": 1639735968920,
     "user": {
      "displayName": "Luan Nguyen",
      "photoUrl": "https://lh3.googleusercontent.com/a-/AOh14GhXUOKNXLamlM5uNy_sScEB1mcsPUamZM3rX6cf=s64",
      "userId": "06060548113046134760"
     },
     "user_tz": -420
    },
    "id": "E1wJd1Cpg8ML",
    "outputId": "c900c908-3a2a-4cf2-8929-4dc1971c365c"
   },
   "outputs": [
    {
     "name": "stdout",
     "output_type": "stream",
     "text": [
      "Epoch  1 / 10  -  train_rmse: 0.8046181550170037\n",
      "Epoch  2 / 10  -  train_rmse: 0.8030370342550008\n",
      "Epoch  3 / 10  -  train_rmse: 0.8014590283401906\n",
      "Epoch  4 / 10  -  train_rmse: 0.7998841311362463\n",
      "Epoch  5 / 10  -  train_rmse: 0.7983123365189302\n",
      "Epoch  6 / 10  -  train_rmse: 0.7967436383760695\n",
      "Epoch  7 / 10  -  train_rmse: 0.7951780306075324\n",
      "Epoch  8 / 10  -  train_rmse: 0.7936155071252049\n",
      "Epoch  9 / 10  -  train_rmse: 0.7920560618529668\n",
      "Epoch  10 / 10  -  train_rmse: 0.7904996887266673\n"
     ]
    }
   ],
   "source": [
    "mf.update(user_item, rating)"
   ]
  },
  {
   "cell_type": "code",
   "execution_count": null,
   "metadata": {
    "id": "t6I2nnQ8TQ3o"
   },
   "outputs": [],
   "source": [
    "mf.save_model('./model/mf')"
   ]
  },
  {
   "cell_type": "code",
   "execution_count": null,
   "metadata": {
    "id": "6UCI55TaiIuv"
   },
   "outputs": [],
   "source": [
    "del mf"
   ]
  },
  {
   "cell_type": "code",
   "execution_count": null,
   "metadata": {
    "id": "gCQGWnUMTWE-"
   },
   "outputs": [],
   "source": [
    "load_mf = MF.load_model('./model/mf') "
   ]
  },
  {
   "cell_type": "code",
   "execution_count": null,
   "metadata": {
    "colab": {
     "base_uri": "https://localhost:8080/",
     "height": 363
    },
    "executionInfo": {
     "elapsed": 398,
     "status": "ok",
     "timestamp": 1639735992437,
     "user": {
      "displayName": "Luan Nguyen",
      "photoUrl": "https://lh3.googleusercontent.com/a-/AOh14GhXUOKNXLamlM5uNy_sScEB1mcsPUamZM3rX6cf=s64",
      "userId": "06060548113046134760"
     },
     "user_tz": -420
    },
    "id": "eoXAn9l4b7Pt",
    "outputId": "2781dc1c-e724-4fd7-f574-e13b6cda7cf0"
   },
   "outputs": [
    {
     "data": {
      "text/html": [
       "\n",
       "  <div id=\"df-e20972e5-3f46-4a29-bf9f-3a3a6738c3a7\">\n",
       "    <div class=\"colab-df-container\">\n",
       "      <div>\n",
       "<style scoped>\n",
       "    .dataframe tbody tr th:only-of-type {\n",
       "        vertical-align: middle;\n",
       "    }\n",
       "\n",
       "    .dataframe tbody tr th {\n",
       "        vertical-align: top;\n",
       "    }\n",
       "\n",
       "    .dataframe thead th {\n",
       "        text-align: right;\n",
       "    }\n",
       "</style>\n",
       "<table border=\"1\" class=\"dataframe\">\n",
       "  <thead>\n",
       "    <tr style=\"text-align: right;\">\n",
       "      <th></th>\n",
       "      <th>user_id</th>\n",
       "      <th>item_id</th>\n",
       "      <th>rating_pred</th>\n",
       "    </tr>\n",
       "  </thead>\n",
       "  <tbody>\n",
       "    <tr>\n",
       "      <th>149</th>\n",
       "      <td>200</td>\n",
       "      <td>260</td>\n",
       "      <td>5.000000</td>\n",
       "    </tr>\n",
       "    <tr>\n",
       "      <th>114</th>\n",
       "      <td>200</td>\n",
       "      <td>318</td>\n",
       "      <td>4.764187</td>\n",
       "    </tr>\n",
       "    <tr>\n",
       "      <th>224</th>\n",
       "      <td>200</td>\n",
       "      <td>750</td>\n",
       "      <td>4.658534</td>\n",
       "    </tr>\n",
       "    <tr>\n",
       "      <th>104</th>\n",
       "      <td>200</td>\n",
       "      <td>4993</td>\n",
       "      <td>4.597836</td>\n",
       "    </tr>\n",
       "    <tr>\n",
       "      <th>258</th>\n",
       "      <td>200</td>\n",
       "      <td>608</td>\n",
       "      <td>4.589670</td>\n",
       "    </tr>\n",
       "    <tr>\n",
       "      <th>164</th>\n",
       "      <td>200</td>\n",
       "      <td>4226</td>\n",
       "      <td>4.489451</td>\n",
       "    </tr>\n",
       "    <tr>\n",
       "      <th>194</th>\n",
       "      <td>200</td>\n",
       "      <td>858</td>\n",
       "      <td>4.474746</td>\n",
       "    </tr>\n",
       "    <tr>\n",
       "      <th>343</th>\n",
       "      <td>200</td>\n",
       "      <td>2019</td>\n",
       "      <td>4.471256</td>\n",
       "    </tr>\n",
       "    <tr>\n",
       "      <th>86</th>\n",
       "      <td>200</td>\n",
       "      <td>296</td>\n",
       "      <td>4.464933</td>\n",
       "    </tr>\n",
       "    <tr>\n",
       "      <th>338</th>\n",
       "      <td>200</td>\n",
       "      <td>947</td>\n",
       "      <td>4.441132</td>\n",
       "    </tr>\n",
       "  </tbody>\n",
       "</table>\n",
       "</div>\n",
       "      <button class=\"colab-df-convert\" onclick=\"convertToInteractive('df-e20972e5-3f46-4a29-bf9f-3a3a6738c3a7')\"\n",
       "              title=\"Convert this dataframe to an interactive table.\"\n",
       "              style=\"display:none;\">\n",
       "        \n",
       "  <svg xmlns=\"http://www.w3.org/2000/svg\" height=\"24px\"viewBox=\"0 0 24 24\"\n",
       "       width=\"24px\">\n",
       "    <path d=\"M0 0h24v24H0V0z\" fill=\"none\"/>\n",
       "    <path d=\"M18.56 5.44l.94 2.06.94-2.06 2.06-.94-2.06-.94-.94-2.06-.94 2.06-2.06.94zm-11 1L8.5 8.5l.94-2.06 2.06-.94-2.06-.94L8.5 2.5l-.94 2.06-2.06.94zm10 10l.94 2.06.94-2.06 2.06-.94-2.06-.94-.94-2.06-.94 2.06-2.06.94z\"/><path d=\"M17.41 7.96l-1.37-1.37c-.4-.4-.92-.59-1.43-.59-.52 0-1.04.2-1.43.59L10.3 9.45l-7.72 7.72c-.78.78-.78 2.05 0 2.83L4 21.41c.39.39.9.59 1.41.59.51 0 1.02-.2 1.41-.59l7.78-7.78 2.81-2.81c.8-.78.8-2.07 0-2.86zM5.41 20L4 18.59l7.72-7.72 1.47 1.35L5.41 20z\"/>\n",
       "  </svg>\n",
       "      </button>\n",
       "      \n",
       "  <style>\n",
       "    .colab-df-container {\n",
       "      display:flex;\n",
       "      flex-wrap:wrap;\n",
       "      gap: 12px;\n",
       "    }\n",
       "\n",
       "    .colab-df-convert {\n",
       "      background-color: #E8F0FE;\n",
       "      border: none;\n",
       "      border-radius: 50%;\n",
       "      cursor: pointer;\n",
       "      display: none;\n",
       "      fill: #1967D2;\n",
       "      height: 32px;\n",
       "      padding: 0 0 0 0;\n",
       "      width: 32px;\n",
       "    }\n",
       "\n",
       "    .colab-df-convert:hover {\n",
       "      background-color: #E2EBFA;\n",
       "      box-shadow: 0px 1px 2px rgba(60, 64, 67, 0.3), 0px 1px 3px 1px rgba(60, 64, 67, 0.15);\n",
       "      fill: #174EA6;\n",
       "    }\n",
       "\n",
       "    [theme=dark] .colab-df-convert {\n",
       "      background-color: #3B4455;\n",
       "      fill: #D2E3FC;\n",
       "    }\n",
       "\n",
       "    [theme=dark] .colab-df-convert:hover {\n",
       "      background-color: #434B5C;\n",
       "      box-shadow: 0px 1px 3px 1px rgba(0, 0, 0, 0.15);\n",
       "      filter: drop-shadow(0px 1px 2px rgba(0, 0, 0, 0.3));\n",
       "      fill: #FFFFFF;\n",
       "    }\n",
       "  </style>\n",
       "\n",
       "      <script>\n",
       "        const buttonEl =\n",
       "          document.querySelector('#df-e20972e5-3f46-4a29-bf9f-3a3a6738c3a7 button.colab-df-convert');\n",
       "        buttonEl.style.display =\n",
       "          google.colab.kernel.accessAllowed ? 'block' : 'none';\n",
       "\n",
       "        async function convertToInteractive(key) {\n",
       "          const element = document.querySelector('#df-e20972e5-3f46-4a29-bf9f-3a3a6738c3a7');\n",
       "          const dataTable =\n",
       "            await google.colab.kernel.invokeFunction('convertToInteractive',\n",
       "                                                     [key], {});\n",
       "          if (!dataTable) return;\n",
       "\n",
       "          const docLinkHtml = 'Like what you see? Visit the ' +\n",
       "            '<a target=\"_blank\" href=https://colab.research.google.com/notebooks/data_table.ipynb>data table notebook</a>'\n",
       "            + ' to learn more about interactive tables.';\n",
       "          element.innerHTML = '';\n",
       "          dataTable['output_type'] = 'display_data';\n",
       "          await google.colab.output.renderOutput(dataTable, element);\n",
       "          const docLink = document.createElement('div');\n",
       "          docLink.innerHTML = docLinkHtml;\n",
       "          element.appendChild(docLink);\n",
       "        }\n",
       "      </script>\n",
       "    </div>\n",
       "  </div>\n",
       "  "
      ],
      "text/plain": [
       "     user_id  item_id  rating_pred\n",
       "149      200      260     5.000000\n",
       "114      200      318     4.764187\n",
       "224      200      750     4.658534\n",
       "104      200     4993     4.597836\n",
       "258      200      608     4.589670\n",
       "164      200     4226     4.489451\n",
       "194      200      858     4.474746\n",
       "343      200     2019     4.471256\n",
       "86       200      296     4.464933\n",
       "338      200      947     4.441132"
      ]
     },
     "execution_count": 16,
     "metadata": {},
     "output_type": "execute_result"
    }
   ],
   "source": [
    "load_mf.recommend(user, items_known, 10)"
   ]
  },
  {
   "cell_type": "code",
   "execution_count": null,
   "metadata": {
    "colab": {
     "base_uri": "https://localhost:8080/"
    },
    "executionInfo": {
     "elapsed": 370,
     "status": "ok",
     "timestamp": 1639736442419,
     "user": {
      "displayName": "Luan Nguyen",
      "photoUrl": "https://lh3.googleusercontent.com/a-/AOh14GhXUOKNXLamlM5uNy_sScEB1mcsPUamZM3rX6cf=s64",
      "userId": "06060548113046134760"
     },
     "user_tz": -420
    },
    "id": "1ydME7y4iPOE",
    "outputId": "e3d9f904-caf9-4b05-b49d-e2585d7662d2"
   },
   "outputs": [
    {
     "name": "stdout",
     "output_type": "stream",
     "text": [
      "Epoch  1 / 10  -  train_rmse: 0.8522550348692248\n",
      "Epoch  2 / 10  -  train_rmse: 0.8505800682701294\n",
      "Epoch  3 / 10  -  train_rmse: 0.8489084013968577\n",
      "Epoch  4 / 10  -  train_rmse: 0.8472400277488679\n",
      "Epoch  5 / 10  -  train_rmse: 0.8455749408384232\n",
      "Epoch  6 / 10  -  train_rmse: 0.8439131341905699\n",
      "Epoch  7 / 10  -  train_rmse: 0.8422546013431091\n",
      "Epoch  8 / 10  -  train_rmse: 0.8405993358465729\n",
      "Epoch  9 / 10  -  train_rmse: 0.838947331264198\n",
      "Epoch  10 / 10  -  train_rmse: 0.8372985811719031\n"
     ]
    }
   ],
   "source": [
    "load_mf.update(user_item, rating)"
   ]
  },
  {
   "cell_type": "code",
   "execution_count": null,
   "metadata": {
    "id": "kTPUn86m4i86"
   },
   "outputs": [],
   "source": []
  }
 ],
 "metadata": {
  "colab": {
   "authorship_tag": "ABX9TyN9n4S3Wo/TXp8mIz2tCg7X",
   "collapsed_sections": [],
   "mount_file_id": "115xkJtgJuOWeOFmj6atbhWtJgWMjZJDV",
   "name": "MF_model_predict_ratings.ipynb",
   "provenance": []
  },
  "kernelspec": {
   "display_name": "Python 3",
   "language": "python",
   "name": "python3"
  },
  "language_info": {
   "codemirror_mode": {
    "name": "ipython",
    "version": 3
   },
   "file_extension": ".py",
   "mimetype": "text/x-python",
   "name": "python",
   "nbconvert_exporter": "python",
   "pygments_lexer": "ipython3",
   "version": "3.7.4"
  }
 },
 "nbformat": 4,
 "nbformat_minor": 1
}
