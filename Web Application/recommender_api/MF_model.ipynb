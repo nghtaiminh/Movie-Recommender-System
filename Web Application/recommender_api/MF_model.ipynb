{
 "cells": [
  {
   "cell_type": "code",
   "execution_count": 3,
   "metadata": {
    "colab": {
     "base_uri": "https://localhost:8080/"
    },
    "executionInfo": {
     "elapsed": 5326,
     "status": "ok",
     "timestamp": 1639751253799,
     "user": {
      "displayName": "Luan Nguyen",
      "photoUrl": "https://lh3.googleusercontent.com/a-/AOh14GhXUOKNXLamlM5uNy_sScEB1mcsPUamZM3rX6cf=s64",
      "userId": "06060548113046134760"
     },
     "user_tz": -420
    },
    "id": "uTgVz2rC5Rqg",
    "outputId": "a26ae947-841a-4e2d-b7a8-df6a35add881"
   },
   "outputs": [
    {
     "name": "stdout",
     "output_type": "stream",
     "text": [
      "Collecting matrix_factorization\n",
      "  Using cached matrix_factorization-1.3.tar.gz (12 kB)\n",
      "  Preparing metadata (setup.py): started\n",
      "  Preparing metadata (setup.py): finished with status 'done'\n",
      "Requirement already satisfied: numba>=0.49.1 in c:\\users\\taiminh\\anaconda3\\lib\\site-packages (from matrix_factorization) (0.51.2)\n",
      "Requirement already satisfied: numpy>=1.18.5 in c:\\users\\taiminh\\anaconda3\\lib\\site-packages (from matrix_factorization) (1.20.1)\n",
      "Requirement already satisfied: pandas>=1.0.4 in c:\\users\\taiminh\\anaconda3\\lib\\site-packages (from matrix_factorization) (1.2.3)\n",
      "Requirement already satisfied: scikit-learn>=0.23.1 in c:\\users\\taiminh\\anaconda3\\lib\\site-packages (from matrix_factorization) (0.24.1)\n",
      "Requirement already satisfied: scipy>=1.4.1 in c:\\users\\taiminh\\anaconda3\\lib\\site-packages (from matrix_factorization) (1.6.1)\n",
      "Requirement already satisfied: llvmlite<0.35,>=0.34.0.dev0 in c:\\users\\taiminh\\anaconda3\\lib\\site-packages (from numba>=0.49.1->matrix_factorization) (0.34.0)\n",
      "Requirement already satisfied: setuptools in c:\\users\\taiminh\\anaconda3\\lib\\site-packages (from numba>=0.49.1->matrix_factorization) (52.0.0.post20210125)\n",
      "Requirement already satisfied: python-dateutil>=2.7.3 in c:\\users\\taiminh\\anaconda3\\lib\\site-packages (from pandas>=1.0.4->matrix_factorization) (2.8.1)\n",
      "Requirement already satisfied: pytz>=2017.3 in c:\\users\\taiminh\\anaconda3\\lib\\site-packages (from pandas>=1.0.4->matrix_factorization) (2021.1)\n",
      "Requirement already satisfied: joblib>=0.11 in c:\\users\\taiminh\\anaconda3\\lib\\site-packages (from scikit-learn>=0.23.1->matrix_factorization) (1.0.1)\n",
      "Requirement already satisfied: threadpoolctl>=2.0.0 in c:\\users\\taiminh\\anaconda3\\lib\\site-packages (from scikit-learn>=0.23.1->matrix_factorization) (2.1.0)\n",
      "Requirement already satisfied: six>=1.5 in c:\\users\\taiminh\\anaconda3\\lib\\site-packages (from python-dateutil>=2.7.3->pandas>=1.0.4->matrix_factorization) (1.15.0)\n",
      "Building wheels for collected packages: matrix-factorization\n",
      "  Building wheel for matrix-factorization (setup.py): started\n",
      "  Building wheel for matrix-factorization (setup.py): finished with status 'done'\n",
      "  Created wheel for matrix-factorization: filename=matrix_factorization-1.3-py3-none-any.whl size=16467 sha256=f8451f2bdcd9a3b4f09442f6675d0e0ecf19b3b8cd334b5056bcfe5e61cf1326\n",
      "  Stored in directory: c:\\users\\taiminh\\appdata\\local\\pip\\cache\\wheels\\f6\\34\\7b\\11dd792f060e9c2d7230855147d3bfadbd2b6bbcf5132dcbbc\n",
      "Successfully built matrix-factorization\n",
      "Installing collected packages: matrix-factorization\n",
      "Successfully installed matrix-factorization-1.3\n"
     ]
    },
    {
     "name": "stderr",
     "output_type": "stream",
     "text": [
      "WARNING: Error parsing requirements for pyodbc: [Errno 2] No such file or directory: 'c:\\\\users\\\\taiminh\\\\anaconda3\\\\lib\\\\site-packages\\\\pyodbc-4.0.27.dist-info\\\\METADATA'\n",
      "WARNING: You are using pip version 21.3; however, version 21.3.1 is available.\n",
      "You should consider upgrading via the 'c:\\users\\taiminh\\anaconda3\\python.exe -m pip install --upgrade pip' command.\n"
     ]
    }
   ],
   "source": [
    "!pip install matrix_factorization"
   ]
  },
  {
   "cell_type": "code",
   "execution_count": 1,
   "metadata": {
    "executionInfo": {
     "elapsed": 394,
     "status": "ok",
     "timestamp": 1639751340886,
     "user": {
      "displayName": "Luan Nguyen",
      "photoUrl": "https://lh3.googleusercontent.com/a-/AOh14GhXUOKNXLamlM5uNy_sScEB1mcsPUamZM3rX6cf=s64",
      "userId": "06060548113046134760"
     },
     "user_tz": -420
    },
    "id": "yvGFU4qBhb45"
   },
   "outputs": [],
   "source": [
    "NUM_EPOCHS = 100\n",
    "UPDATE_N_EPOCHS = 10"
   ]
  },
  {
   "cell_type": "code",
   "execution_count": 2,
   "metadata": {
    "executionInfo": {
     "elapsed": 470,
     "status": "ok",
     "timestamp": 1639754128284,
     "user": {
      "displayName": "Luan Nguyen",
      "photoUrl": "https://lh3.googleusercontent.com/a-/AOh14GhXUOKNXLamlM5uNy_sScEB1mcsPUamZM3rX6cf=s64",
      "userId": "06060548113046134760"
     },
     "user_tz": -420
    },
    "id": "wc4_znq81FBV"
   },
   "outputs": [],
   "source": [
    "# Data manipulation\n",
    "import numpy as np\n",
    "import pandas as pd\n",
    "\n",
    "# Modeling\n",
    "from matrix_factorization import BaselineModel, KernelMF, train_update_test_split\n",
    "from sklearn.metrics import mean_squared_error\n",
    "from sklearn.model_selection import train_test_split\n",
    "\n",
    "# Other\n",
    "import os\n",
    "import random\n",
    "import sys\n",
    "    \n",
    "# Saving model\n",
    "import pickle\n",
    "\n",
    "rand_seed = 2\n",
    "np.random.seed(rand_seed)\n",
    "random.seed(rand_seed)\n",
    "\n",
    "DATA_PATH = './data/Ratings.csv'\n",
    "COL_NAMES = ['user_id', 'item_id', 'rating']\n",
    "\n",
    "def read_data(data_path, col_names):\n",
    "    return pd.read_csv(data_path, header=0, names=col_names, usecols=[0, 1, 2])\n",
    "    \n",
    "def split_train_test(dataframe):\n",
    "    X = data[['user_id', 'item_id']]\n",
    "    y = data['rating']\n",
    "    X_train, X_test, y_train, y_test = train_test_split(X, y, test_size=0.2)\n",
    "    return (X_train, X_test, y_train, y_test)\n",
    "\n",
    "class MF:\n",
    "    def __init__(self, X_train, y_train, num_epochs=NUM_EPOCHS, save_model_path=None):\n",
    "        \"\"\"\n",
    "            save_model_path (str): * do not include \".pkl\"\n",
    "            * if save_model_path is not none, other parameters do not need any values\n",
    "        \"\"\"\n",
    "        if save_model_path is None:\n",
    "            self.model = self.__train(X_train, y_train, num_epochs)\n",
    "        else:\n",
    "            self = MF.load_model(save_model_path)\n",
    "\n",
    "    def __train(self, X_train, y_train, num_epochs):\n",
    "        matrix_fact = KernelMF(n_epochs = num_epochs, n_factors = 100, verbose = 1, lr = 0.001, reg = 0.2)\n",
    "        matrix_fact.fit(X_train, y_train)\n",
    "        return matrix_fact\n",
    "\n",
    "    def update(self, new_X_train: pd.DataFrame, new_y_train: pd.Series, n_epochs=UPDATE_N_EPOCHS):\n",
    "        \"\"\"\n",
    "            new_X_train: a dataframe with two cols: user_id, item_id\n",
    "            new_y_train: a series of rating corresponds to new_X_train\n",
    "        \"\"\"\n",
    "        self.model.update_users(new_X_train, new_y_train, lr=0.001, n_epochs=n_epochs, verbose=1)\n",
    "\n",
    "    def evaluate(self, X_test, y_test):\n",
    "        \"\"\"\n",
    "            compute RMSE on test data\n",
    "        \"\"\"\n",
    "        pred = self.model.predict(X_test)\n",
    "        rmse = mean_squared_error(y_test, pred, squared = False)\n",
    "        print(f'\\nTest RMSE: {rmse:.4f}')\n",
    "    \n",
    "    def recommend(self, user_id, items_known, numMovie: int):\n",
    "        return self.model.recommend(user=user_id, items_known=items_known, amount=numMovie)\n",
    "\n",
    "    def save_model(self, save_path):\n",
    "        \"\"\"\n",
    "            savePath (str): * do not include \".pkl\"\n",
    "        \"\"\"\n",
    "        file_to_store = open(save_path + \".pkl\", \"wb\")\n",
    "        pickle.dump(self, file_to_store)\n",
    "        file_to_store.close()\n",
    "\n",
    "    def load_model(save_path):\n",
    "        \"\"\"\n",
    "            savePath (str): * do not include \".pkl\"\n",
    "        \"\"\"\n",
    "        file_to_read = open(save_path + \".pkl\", \"rb\")\n",
    "        mf = pickle.load(file_to_read)\n",
    "        file_to_read.close()\n",
    "        return mf"
   ]
  },
  {
   "cell_type": "code",
   "execution_count": 3,
   "metadata": {
    "colab": {
     "base_uri": "https://localhost:8080/",
     "height": 423
    },
    "executionInfo": {
     "elapsed": 10,
     "status": "ok",
     "timestamp": 1639754129801,
     "user": {
      "displayName": "Luan Nguyen",
      "photoUrl": "https://lh3.googleusercontent.com/a-/AOh14GhXUOKNXLamlM5uNy_sScEB1mcsPUamZM3rX6cf=s64",
      "userId": "06060548113046134760"
     },
     "user_tz": -420
    },
    "id": "UrMC1g9S_BBt",
    "outputId": "579f6f34-f3d1-472b-ded9-ea0ac7354f1d"
   },
   "outputs": [
    {
     "data": {
      "text/html": [
       "<div>\n",
       "<style scoped>\n",
       "    .dataframe tbody tr th:only-of-type {\n",
       "        vertical-align: middle;\n",
       "    }\n",
       "\n",
       "    .dataframe tbody tr th {\n",
       "        vertical-align: top;\n",
       "    }\n",
       "\n",
       "    .dataframe thead th {\n",
       "        text-align: right;\n",
       "    }\n",
       "</style>\n",
       "<table border=\"1\" class=\"dataframe\">\n",
       "  <thead>\n",
       "    <tr style=\"text-align: right;\">\n",
       "      <th></th>\n",
       "      <th>user_id</th>\n",
       "      <th>item_id</th>\n",
       "      <th>rating</th>\n",
       "    </tr>\n",
       "  </thead>\n",
       "  <tbody>\n",
       "    <tr>\n",
       "      <th>0</th>\n",
       "      <td>1</td>\n",
       "      <td>110</td>\n",
       "      <td>1.0</td>\n",
       "    </tr>\n",
       "    <tr>\n",
       "      <th>1</th>\n",
       "      <td>1</td>\n",
       "      <td>147</td>\n",
       "      <td>4.5</td>\n",
       "    </tr>\n",
       "    <tr>\n",
       "      <th>2</th>\n",
       "      <td>1</td>\n",
       "      <td>858</td>\n",
       "      <td>5.0</td>\n",
       "    </tr>\n",
       "    <tr>\n",
       "      <th>3</th>\n",
       "      <td>1</td>\n",
       "      <td>1246</td>\n",
       "      <td>5.0</td>\n",
       "    </tr>\n",
       "    <tr>\n",
       "      <th>4</th>\n",
       "      <td>1</td>\n",
       "      <td>1968</td>\n",
       "      <td>4.0</td>\n",
       "    </tr>\n",
       "    <tr>\n",
       "      <th>...</th>\n",
       "      <td>...</td>\n",
       "      <td>...</td>\n",
       "      <td>...</td>\n",
       "    </tr>\n",
       "    <tr>\n",
       "      <th>996462</th>\n",
       "      <td>23624</td>\n",
       "      <td>1358</td>\n",
       "      <td>3.5</td>\n",
       "    </tr>\n",
       "    <tr>\n",
       "      <th>996463</th>\n",
       "      <td>23624</td>\n",
       "      <td>1392</td>\n",
       "      <td>4.0</td>\n",
       "    </tr>\n",
       "    <tr>\n",
       "      <th>996464</th>\n",
       "      <td>23624</td>\n",
       "      <td>1394</td>\n",
       "      <td>4.0</td>\n",
       "    </tr>\n",
       "    <tr>\n",
       "      <th>996465</th>\n",
       "      <td>23624</td>\n",
       "      <td>1914</td>\n",
       "      <td>3.5</td>\n",
       "    </tr>\n",
       "    <tr>\n",
       "      <th>996466</th>\n",
       "      <td>23624</td>\n",
       "      <td>2291</td>\n",
       "      <td>4.0</td>\n",
       "    </tr>\n",
       "  </tbody>\n",
       "</table>\n",
       "<p>996467 rows × 3 columns</p>\n",
       "</div>"
      ],
      "text/plain": [
       "        user_id  item_id  rating\n",
       "0             1      110     1.0\n",
       "1             1      147     4.5\n",
       "2             1      858     5.0\n",
       "3             1     1246     5.0\n",
       "4             1     1968     4.0\n",
       "...         ...      ...     ...\n",
       "996462    23624     1358     3.5\n",
       "996463    23624     1392     4.0\n",
       "996464    23624     1394     4.0\n",
       "996465    23624     1914     3.5\n",
       "996466    23624     2291     4.0\n",
       "\n",
       "[996467 rows x 3 columns]"
      ]
     },
     "execution_count": 3,
     "metadata": {},
     "output_type": "execute_result"
    }
   ],
   "source": [
    "data = read_data(DATA_PATH, COL_NAMES)\n",
    "data"
   ]
  },
  {
   "cell_type": "code",
   "execution_count": 4,
   "metadata": {
    "executionInfo": {
     "elapsed": 3,
     "status": "ok",
     "timestamp": 1639754131481,
     "user": {
      "displayName": "Luan Nguyen",
      "photoUrl": "https://lh3.googleusercontent.com/a-/AOh14GhXUOKNXLamlM5uNy_sScEB1mcsPUamZM3rX6cf=s64",
      "userId": "06060548113046134760"
     },
     "user_tz": -420
    },
    "id": "V1GZ-XEROkaM"
   },
   "outputs": [],
   "source": [
    "X_train, X_test, y_train, y_test = split_train_test(data)"
   ]
  },
  {
   "cell_type": "code",
   "execution_count": 5,
   "metadata": {
    "colab": {
     "base_uri": "https://localhost:8080/"
    },
    "executionInfo": {
     "elapsed": 68717,
     "status": "ok",
     "timestamp": 1639754201744,
     "user": {
      "displayName": "Luan Nguyen",
      "photoUrl": "https://lh3.googleusercontent.com/a-/AOh14GhXUOKNXLamlM5uNy_sScEB1mcsPUamZM3rX6cf=s64",
      "userId": "06060548113046134760"
     },
     "user_tz": -420
    },
    "id": "i-ba_t50GPDe",
    "outputId": "bdb8ccd5-868a-4baf-8ee8-516a63b59310"
   },
   "outputs": [
    {
     "name": "stdout",
     "output_type": "stream",
     "text": [
      "Epoch  1 / 100  -  train_rmse: 0.9734767464666649\n",
      "Epoch  2 / 100  -  train_rmse: 0.9476491848061338\n",
      "Epoch  3 / 100  -  train_rmse: 0.9327470177034417\n",
      "Epoch  4 / 100  -  train_rmse: 0.9223976472407741\n",
      "Epoch  5 / 100  -  train_rmse: 0.9146888815854218\n",
      "Epoch  6 / 100  -  train_rmse: 0.9087601617231631\n",
      "Epoch  7 / 100  -  train_rmse: 0.9038944851521955\n",
      "Epoch  8 / 100  -  train_rmse: 0.8997712370422365\n",
      "Epoch  9 / 100  -  train_rmse: 0.8963526498505504\n",
      "Epoch  10 / 100  -  train_rmse: 0.8934368046993567\n",
      "Epoch  11 / 100  -  train_rmse: 0.8907429555531162\n",
      "Epoch  12 / 100  -  train_rmse: 0.8885654429673283\n",
      "Epoch  13 / 100  -  train_rmse: 0.886582828965991\n",
      "Epoch  14 / 100  -  train_rmse: 0.8847367506729163\n",
      "Epoch  15 / 100  -  train_rmse: 0.8830523092231902\n",
      "Epoch  16 / 100  -  train_rmse: 0.8815375444203958\n",
      "Epoch  17 / 100  -  train_rmse: 0.8801285960809492\n",
      "Epoch  18 / 100  -  train_rmse: 0.8789785835748605\n",
      "Epoch  19 / 100  -  train_rmse: 0.8777834428479324\n",
      "Epoch  20 / 100  -  train_rmse: 0.8766901507086422\n",
      "Epoch  21 / 100  -  train_rmse: 0.8756729105549642\n",
      "Epoch  22 / 100  -  train_rmse: 0.8748300443488453\n",
      "Epoch  23 / 100  -  train_rmse: 0.8739948400227764\n",
      "Epoch  24 / 100  -  train_rmse: 0.8732068196368861\n",
      "Epoch  25 / 100  -  train_rmse: 0.8724297370004359\n",
      "Epoch  26 / 100  -  train_rmse: 0.8716474380536983\n",
      "Epoch  27 / 100  -  train_rmse: 0.8709481812016013\n",
      "Epoch  28 / 100  -  train_rmse: 0.8704054910240684\n",
      "Epoch  29 / 100  -  train_rmse: 0.8698217411910695\n",
      "Epoch  30 / 100  -  train_rmse: 0.8692100794242094\n",
      "Epoch  31 / 100  -  train_rmse: 0.8686462228332996\n",
      "Epoch  32 / 100  -  train_rmse: 0.8681341974691712\n",
      "Epoch  33 / 100  -  train_rmse: 0.8676660635346415\n",
      "Epoch  34 / 100  -  train_rmse: 0.8672751456350783\n",
      "Epoch  35 / 100  -  train_rmse: 0.8668310634485935\n",
      "Epoch  36 / 100  -  train_rmse: 0.8664118297793341\n",
      "Epoch  37 / 100  -  train_rmse: 0.8659702524869579\n",
      "Epoch  38 / 100  -  train_rmse: 0.865614252466809\n",
      "Epoch  39 / 100  -  train_rmse: 0.865273719507932\n",
      "Epoch  40 / 100  -  train_rmse: 0.8648556195472413\n",
      "Epoch  41 / 100  -  train_rmse: 0.8645075914517456\n",
      "Epoch  42 / 100  -  train_rmse: 0.864189623692034\n",
      "Epoch  43 / 100  -  train_rmse: 0.863891195395545\n",
      "Epoch  44 / 100  -  train_rmse: 0.8635492284543015\n",
      "Epoch  45 / 100  -  train_rmse: 0.863229873882699\n",
      "Epoch  46 / 100  -  train_rmse: 0.863063688116737\n",
      "Epoch  47 / 100  -  train_rmse: 0.8626999384989308\n",
      "Epoch  48 / 100  -  train_rmse: 0.8624698091945876\n",
      "Epoch  49 / 100  -  train_rmse: 0.8621735909182994\n",
      "Epoch  50 / 100  -  train_rmse: 0.861943298564523\n",
      "Epoch  51 / 100  -  train_rmse: 0.8616795227636621\n",
      "Epoch  52 / 100  -  train_rmse: 0.8614407945181901\n",
      "Epoch  53 / 100  -  train_rmse: 0.8611459310165126\n",
      "Epoch  54 / 100  -  train_rmse: 0.8610236432297618\n",
      "Epoch  55 / 100  -  train_rmse: 0.8607542100745575\n",
      "Epoch  56 / 100  -  train_rmse: 0.8605862635184095\n",
      "Epoch  57 / 100  -  train_rmse: 0.8603855057510374\n",
      "Epoch  58 / 100  -  train_rmse: 0.8601939635694039\n",
      "Epoch  59 / 100  -  train_rmse: 0.8600603593030802\n",
      "Epoch  60 / 100  -  train_rmse: 0.859855030486588\n",
      "Epoch  61 / 100  -  train_rmse: 0.859596156152564\n",
      "Epoch  62 / 100  -  train_rmse: 0.8594337734373758\n",
      "Epoch  63 / 100  -  train_rmse: 0.8593104415181464\n",
      "Epoch  64 / 100  -  train_rmse: 0.859075331809927\n",
      "Epoch  65 / 100  -  train_rmse: 0.8589964913753085\n",
      "Epoch  66 / 100  -  train_rmse: 0.8588179211570617\n",
      "Epoch  67 / 100  -  train_rmse: 0.8587002505925796\n",
      "Epoch  68 / 100  -  train_rmse: 0.8585282105968433\n",
      "Epoch  69 / 100  -  train_rmse: 0.8583316660899332\n",
      "Epoch  70 / 100  -  train_rmse: 0.8582309308907815\n",
      "Epoch  71 / 100  -  train_rmse: 0.8581658600418539\n",
      "Epoch  72 / 100  -  train_rmse: 0.8580484045052358\n",
      "Epoch  73 / 100  -  train_rmse: 0.8579073248330135\n",
      "Epoch  74 / 100  -  train_rmse: 0.8577936316700461\n",
      "Epoch  75 / 100  -  train_rmse: 0.8576176673170114\n",
      "Epoch  76 / 100  -  train_rmse: 0.8574737226971317\n",
      "Epoch  77 / 100  -  train_rmse: 0.8573886932982747\n",
      "Epoch  78 / 100  -  train_rmse: 0.8573029500824132\n",
      "Epoch  79 / 100  -  train_rmse: 0.8571746795408474\n",
      "Epoch  80 / 100  -  train_rmse: 0.8569634398192079\n",
      "Epoch  81 / 100  -  train_rmse: 0.8568298947327165\n",
      "Epoch  82 / 100  -  train_rmse: 0.8567485099500904\n",
      "Epoch  83 / 100  -  train_rmse: 0.8567465351560937\n",
      "Epoch  84 / 100  -  train_rmse: 0.8565543973197273\n",
      "Epoch  85 / 100  -  train_rmse: 0.8565936082321047\n",
      "Epoch  86 / 100  -  train_rmse: 0.8564069597475061\n",
      "Epoch  87 / 100  -  train_rmse: 0.8562331596078439\n",
      "Epoch  88 / 100  -  train_rmse: 0.8562269520530388\n",
      "Epoch  89 / 100  -  train_rmse: 0.8561106420581207\n",
      "Epoch  90 / 100  -  train_rmse: 0.8559995916121139\n",
      "Epoch  91 / 100  -  train_rmse: 0.8559446829522981\n",
      "Epoch  92 / 100  -  train_rmse: 0.8558611338615286\n",
      "Epoch  93 / 100  -  train_rmse: 0.8557575904652067\n",
      "Epoch  94 / 100  -  train_rmse: 0.8557034473775509\n",
      "Epoch  95 / 100  -  train_rmse: 0.855659768485806\n",
      "Epoch  96 / 100  -  train_rmse: 0.8555317406316131\n",
      "Epoch  97 / 100  -  train_rmse: 0.8553754438374929\n",
      "Epoch  98 / 100  -  train_rmse: 0.85533006470571\n",
      "Epoch  99 / 100  -  train_rmse: 0.8552044153093121\n",
      "Epoch  100 / 100  -  train_rmse: 0.8551880027175619\n"
     ]
    }
   ],
   "source": [
    "# create MF model and train\n",
    "mf = MF(X_train, y_train, num_epochs=NUM_EPOCHS)"
   ]
  },
  {
   "cell_type": "code",
   "execution_count": 6,
   "metadata": {
    "colab": {
     "base_uri": "https://localhost:8080/"
    },
    "executionInfo": {
     "elapsed": 436,
     "status": "ok",
     "timestamp": 1639754205699,
     "user": {
      "displayName": "Luan Nguyen",
      "photoUrl": "https://lh3.googleusercontent.com/a-/AOh14GhXUOKNXLamlM5uNy_sScEB1mcsPUamZM3rX6cf=s64",
      "userId": "06060548113046134760"
     },
     "user_tz": -420
    },
    "id": "rW6OU1kuWVOg",
    "outputId": "a297e45c-0dfd-468d-c15f-2731e76ff4a2"
   },
   "outputs": [
    {
     "name": "stdout",
     "output_type": "stream",
     "text": [
      "\n",
      "Test RMSE: 0.8798\n"
     ]
    }
   ],
   "source": [
    "mf.evaluate(X_test, y_test)"
   ]
  },
  {
   "cell_type": "code",
   "execution_count": 7,
   "metadata": {
    "id": "0EoCPx_MgNXn"
   },
   "outputs": [],
   "source": [
    "user = 200\n",
    "items_known = data.query('user_id == @user')['item_id']\n",
    "recommendation = mf.recommend(user, items_known, numMovie=12)"
   ]
  },
  {
   "cell_type": "code",
   "execution_count": 8,
   "metadata": {
    "colab": {
     "base_uri": "https://localhost:8080/",
     "height": 426
    },
    "executionInfo": {
     "elapsed": 19,
     "status": "ok",
     "timestamp": 1639735897419,
     "user": {
      "displayName": "Luan Nguyen",
      "photoUrl": "https://lh3.googleusercontent.com/a-/AOh14GhXUOKNXLamlM5uNy_sScEB1mcsPUamZM3rX6cf=s64",
      "userId": "06060548113046134760"
     },
     "user_tz": -420
    },
    "id": "vF44riAuiCR1",
    "outputId": "033d63df-f585-49a3-d478-4f8e8e0d4adc"
   },
   "outputs": [
    {
     "data": {
      "text/html": [
       "<div>\n",
       "<style scoped>\n",
       "    .dataframe tbody tr th:only-of-type {\n",
       "        vertical-align: middle;\n",
       "    }\n",
       "\n",
       "    .dataframe tbody tr th {\n",
       "        vertical-align: top;\n",
       "    }\n",
       "\n",
       "    .dataframe thead th {\n",
       "        text-align: right;\n",
       "    }\n",
       "</style>\n",
       "<table border=\"1\" class=\"dataframe\">\n",
       "  <thead>\n",
       "    <tr style=\"text-align: right;\">\n",
       "      <th></th>\n",
       "      <th>user_id</th>\n",
       "      <th>item_id</th>\n",
       "      <th>rating_pred</th>\n",
       "    </tr>\n",
       "  </thead>\n",
       "  <tbody>\n",
       "    <tr>\n",
       "      <th>114</th>\n",
       "      <td>200</td>\n",
       "      <td>318</td>\n",
       "      <td>4.322971</td>\n",
       "    </tr>\n",
       "    <tr>\n",
       "      <th>1718</th>\n",
       "      <td>200</td>\n",
       "      <td>5121</td>\n",
       "      <td>4.318037</td>\n",
       "    </tr>\n",
       "    <tr>\n",
       "      <th>2477</th>\n",
       "      <td>200</td>\n",
       "      <td>668</td>\n",
       "      <td>4.298154</td>\n",
       "    </tr>\n",
       "    <tr>\n",
       "      <th>3456</th>\n",
       "      <td>200</td>\n",
       "      <td>632</td>\n",
       "      <td>4.289271</td>\n",
       "    </tr>\n",
       "    <tr>\n",
       "      <th>2716</th>\n",
       "      <td>200</td>\n",
       "      <td>8199</td>\n",
       "      <td>4.267890</td>\n",
       "    </tr>\n",
       "    <tr>\n",
       "      <th>1340</th>\n",
       "      <td>200</td>\n",
       "      <td>5056</td>\n",
       "      <td>4.266398</td>\n",
       "    </tr>\n",
       "    <tr>\n",
       "      <th>343</th>\n",
       "      <td>200</td>\n",
       "      <td>2019</td>\n",
       "      <td>4.263767</td>\n",
       "    </tr>\n",
       "    <tr>\n",
       "      <th>850</th>\n",
       "      <td>200</td>\n",
       "      <td>3134</td>\n",
       "      <td>4.258894</td>\n",
       "    </tr>\n",
       "    <tr>\n",
       "      <th>1302</th>\n",
       "      <td>200</td>\n",
       "      <td>8197</td>\n",
       "      <td>4.256908</td>\n",
       "    </tr>\n",
       "    <tr>\n",
       "      <th>1740</th>\n",
       "      <td>200</td>\n",
       "      <td>27033</td>\n",
       "      <td>4.253440</td>\n",
       "    </tr>\n",
       "    <tr>\n",
       "      <th>194</th>\n",
       "      <td>200</td>\n",
       "      <td>858</td>\n",
       "      <td>4.251592</td>\n",
       "    </tr>\n",
       "    <tr>\n",
       "      <th>1661</th>\n",
       "      <td>200</td>\n",
       "      <td>3030</td>\n",
       "      <td>4.247512</td>\n",
       "    </tr>\n",
       "  </tbody>\n",
       "</table>\n",
       "</div>"
      ],
      "text/plain": [
       "      user_id  item_id  rating_pred\n",
       "114       200      318     4.322971\n",
       "1718      200     5121     4.318037\n",
       "2477      200      668     4.298154\n",
       "3456      200      632     4.289271\n",
       "2716      200     8199     4.267890\n",
       "1340      200     5056     4.266398\n",
       "343       200     2019     4.263767\n",
       "850       200     3134     4.258894\n",
       "1302      200     8197     4.256908\n",
       "1740      200    27033     4.253440\n",
       "194       200      858     4.251592\n",
       "1661      200     3030     4.247512"
      ]
     },
     "execution_count": 8,
     "metadata": {},
     "output_type": "execute_result"
    }
   ],
   "source": [
    "recommendation"
   ]
  },
  {
   "cell_type": "code",
   "execution_count": 9,
   "metadata": {
    "id": "uESd3W7NizBY"
   },
   "outputs": [],
   "source": [
    "user_item = pd.DataFrame(data={'user_id': [int('1')],\n",
    "                               'item_id': [int('102899')]})\n",
    "rating = pd.Series(data=[float('4.3')]) "
   ]
  },
  {
   "cell_type": "code",
   "execution_count": 10,
   "metadata": {
    "colab": {
     "base_uri": "https://localhost:8080/"
    },
    "executionInfo": {
     "elapsed": 2856,
     "status": "ok",
     "timestamp": 1639735968920,
     "user": {
      "displayName": "Luan Nguyen",
      "photoUrl": "https://lh3.googleusercontent.com/a-/AOh14GhXUOKNXLamlM5uNy_sScEB1mcsPUamZM3rX6cf=s64",
      "userId": "06060548113046134760"
     },
     "user_tz": -420
    },
    "id": "E1wJd1Cpg8ML",
    "outputId": "c900c908-3a2a-4cf2-8929-4dc1971c365c"
   },
   "outputs": [
    {
     "name": "stdout",
     "output_type": "stream",
     "text": [
      "Epoch  1 / 10  -  train_rmse: 0.8276972097820896\n",
      "Epoch  2 / 10  -  train_rmse: 0.826098435531974\n",
      "Epoch  3 / 10  -  train_rmse: 0.8245030677328469\n",
      "Epoch  4 / 10  -  train_rmse: 0.8229110991267063\n",
      "Epoch  5 / 10  -  train_rmse: 0.8213225224710121\n",
      "Epoch  6 / 10  -  train_rmse: 0.8197373305386586\n",
      "Epoch  7 / 10  -  train_rmse: 0.8181555161179359\n",
      "Epoch  8 / 10  -  train_rmse: 0.8165770720125014\n",
      "Epoch  9 / 10  -  train_rmse: 0.8150019910413455\n",
      "Epoch  10 / 10  -  train_rmse: 0.813430266038758\n"
     ]
    }
   ],
   "source": [
    "mf.update(user_item, rating)"
   ]
  },
  {
   "cell_type": "code",
   "execution_count": 11,
   "metadata": {
    "id": "t6I2nnQ8TQ3o"
   },
   "outputs": [],
   "source": [
    "mf.save_model('./model/mf')"
   ]
  },
  {
   "cell_type": "code",
   "execution_count": 12,
   "metadata": {
    "id": "6UCI55TaiIuv"
   },
   "outputs": [],
   "source": [
    "del mf"
   ]
  },
  {
   "cell_type": "code",
   "execution_count": 13,
   "metadata": {
    "id": "gCQGWnUMTWE-"
   },
   "outputs": [],
   "source": [
    "load_mf = MF.load_model('./model/mf') "
   ]
  },
  {
   "cell_type": "code",
   "execution_count": 14,
   "metadata": {
    "colab": {
     "base_uri": "https://localhost:8080/",
     "height": 363
    },
    "executionInfo": {
     "elapsed": 398,
     "status": "ok",
     "timestamp": 1639735992437,
     "user": {
      "displayName": "Luan Nguyen",
      "photoUrl": "https://lh3.googleusercontent.com/a-/AOh14GhXUOKNXLamlM5uNy_sScEB1mcsPUamZM3rX6cf=s64",
      "userId": "06060548113046134760"
     },
     "user_tz": -420
    },
    "id": "eoXAn9l4b7Pt",
    "outputId": "2781dc1c-e724-4fd7-f574-e13b6cda7cf0"
   },
   "outputs": [
    {
     "data": {
      "text/html": [
       "<div>\n",
       "<style scoped>\n",
       "    .dataframe tbody tr th:only-of-type {\n",
       "        vertical-align: middle;\n",
       "    }\n",
       "\n",
       "    .dataframe tbody tr th {\n",
       "        vertical-align: top;\n",
       "    }\n",
       "\n",
       "    .dataframe thead th {\n",
       "        text-align: right;\n",
       "    }\n",
       "</style>\n",
       "<table border=\"1\" class=\"dataframe\">\n",
       "  <thead>\n",
       "    <tr style=\"text-align: right;\">\n",
       "      <th></th>\n",
       "      <th>user_id</th>\n",
       "      <th>item_id</th>\n",
       "      <th>rating_pred</th>\n",
       "    </tr>\n",
       "  </thead>\n",
       "  <tbody>\n",
       "    <tr>\n",
       "      <th>114</th>\n",
       "      <td>200</td>\n",
       "      <td>318</td>\n",
       "      <td>4.322971</td>\n",
       "    </tr>\n",
       "    <tr>\n",
       "      <th>1718</th>\n",
       "      <td>200</td>\n",
       "      <td>5121</td>\n",
       "      <td>4.318037</td>\n",
       "    </tr>\n",
       "    <tr>\n",
       "      <th>2477</th>\n",
       "      <td>200</td>\n",
       "      <td>668</td>\n",
       "      <td>4.298154</td>\n",
       "    </tr>\n",
       "    <tr>\n",
       "      <th>3456</th>\n",
       "      <td>200</td>\n",
       "      <td>632</td>\n",
       "      <td>4.289271</td>\n",
       "    </tr>\n",
       "    <tr>\n",
       "      <th>2716</th>\n",
       "      <td>200</td>\n",
       "      <td>8199</td>\n",
       "      <td>4.267890</td>\n",
       "    </tr>\n",
       "    <tr>\n",
       "      <th>1340</th>\n",
       "      <td>200</td>\n",
       "      <td>5056</td>\n",
       "      <td>4.266398</td>\n",
       "    </tr>\n",
       "    <tr>\n",
       "      <th>343</th>\n",
       "      <td>200</td>\n",
       "      <td>2019</td>\n",
       "      <td>4.263767</td>\n",
       "    </tr>\n",
       "    <tr>\n",
       "      <th>850</th>\n",
       "      <td>200</td>\n",
       "      <td>3134</td>\n",
       "      <td>4.258894</td>\n",
       "    </tr>\n",
       "    <tr>\n",
       "      <th>1302</th>\n",
       "      <td>200</td>\n",
       "      <td>8197</td>\n",
       "      <td>4.256908</td>\n",
       "    </tr>\n",
       "    <tr>\n",
       "      <th>1740</th>\n",
       "      <td>200</td>\n",
       "      <td>27033</td>\n",
       "      <td>4.253440</td>\n",
       "    </tr>\n",
       "  </tbody>\n",
       "</table>\n",
       "</div>"
      ],
      "text/plain": [
       "      user_id  item_id  rating_pred\n",
       "114       200      318     4.322971\n",
       "1718      200     5121     4.318037\n",
       "2477      200      668     4.298154\n",
       "3456      200      632     4.289271\n",
       "2716      200     8199     4.267890\n",
       "1340      200     5056     4.266398\n",
       "343       200     2019     4.263767\n",
       "850       200     3134     4.258894\n",
       "1302      200     8197     4.256908\n",
       "1740      200    27033     4.253440"
      ]
     },
     "execution_count": 14,
     "metadata": {},
     "output_type": "execute_result"
    }
   ],
   "source": [
    "load_mf.recommend(user, items_known, 10)"
   ]
  },
  {
   "cell_type": "code",
   "execution_count": 15,
   "metadata": {
    "colab": {
     "base_uri": "https://localhost:8080/"
    },
    "executionInfo": {
     "elapsed": 370,
     "status": "ok",
     "timestamp": 1639736442419,
     "user": {
      "displayName": "Luan Nguyen",
      "photoUrl": "https://lh3.googleusercontent.com/a-/AOh14GhXUOKNXLamlM5uNy_sScEB1mcsPUamZM3rX6cf=s64",
      "userId": "06060548113046134760"
     },
     "user_tz": -420
    },
    "id": "1ydME7y4iPOE",
    "outputId": "e3d9f904-caf9-4b05-b49d-e2585d7662d2"
   },
   "outputs": [
    {
     "name": "stdout",
     "output_type": "stream",
     "text": [
      "Epoch  1 / 10  -  train_rmse: 1.050448049142393\n",
      "Epoch  2 / 10  -  train_rmse: 1.0483746676630536\n",
      "Epoch  3 / 10  -  train_rmse: 1.0463057038633146\n",
      "Epoch  4 / 10  -  train_rmse: 1.0442411483305842\n",
      "Epoch  5 / 10  -  train_rmse: 1.042180991672327\n",
      "Epoch  6 / 10  -  train_rmse: 1.0401252245160175\n",
      "Epoch  7 / 10  -  train_rmse: 1.0380738375091019\n",
      "Epoch  8 / 10  -  train_rmse: 1.0360268213189525\n",
      "Epoch  9 / 10  -  train_rmse: 1.0339841666328269\n",
      "Epoch  10 / 10  -  train_rmse: 1.0319458641578256\n"
     ]
    }
   ],
   "source": [
    "load_mf.update(user_item, rating)"
   ]
  },
  {
   "cell_type": "code",
   "execution_count": null,
   "metadata": {
    "id": "kTPUn86m4i86"
   },
   "outputs": [],
   "source": []
  }
 ],
 "metadata": {
  "colab": {
   "authorship_tag": "ABX9TyN9n4S3Wo/TXp8mIz2tCg7X",
   "collapsed_sections": [],
   "mount_file_id": "115xkJtgJuOWeOFmj6atbhWtJgWMjZJDV",
   "name": "MF_model_predict_ratings.ipynb",
   "provenance": []
  },
  "kernelspec": {
   "display_name": "Python 3",
   "language": "python",
   "name": "python3"
  },
  "language_info": {
   "codemirror_mode": {
    "name": "ipython",
    "version": 3
   },
   "file_extension": ".py",
   "mimetype": "text/x-python",
   "name": "python",
   "nbconvert_exporter": "python",
   "pygments_lexer": "ipython3",
   "version": "3.7.4"
  }
 },
 "nbformat": 4,
 "nbformat_minor": 1
}
