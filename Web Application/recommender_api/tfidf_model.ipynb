{
 "cells": [
  {
   "cell_type": "code",
   "execution_count": 8,
   "metadata": {
    "executionInfo": {
     "elapsed": 502,
     "status": "ok",
     "timestamp": 1639736046677,
     "user": {
      "displayName": "Luan Nguyen",
      "photoUrl": "https://lh3.googleusercontent.com/a-/AOh14GhXUOKNXLamlM5uNy_sScEB1mcsPUamZM3rX6cf=s64",
      "userId": "06060548113046134760"
     },
     "user_tz": -420
    },
    "id": "cdS4whpZSoVm"
   },
   "outputs": [],
   "source": [
    "# for recommender\n",
    "import pandas as pd\n",
    "from sklearn.feature_extraction.text import TfidfVectorizer\n",
    "from sklearn.metrics.pairwise import cosine_similarity\n",
    "import numpy as np\n",
    "import pickle"
   ]
  },
  {
   "cell_type": "code",
   "execution_count": 20,
   "metadata": {
    "executionInfo": {
     "elapsed": 382,
     "status": "ok",
     "timestamp": 1639736617600,
     "user": {
      "displayName": "Luan Nguyen",
      "photoUrl": "https://lh3.googleusercontent.com/a-/AOh14GhXUOKNXLamlM5uNy_sScEB1mcsPUamZM3rX6cf=s64",
      "userId": "06060548113046134760"
     },
     "user_tz": -420
    },
    "id": "1hTiMtF_G44o"
   },
   "outputs": [],
   "source": [
    "def conv(val):\n",
    "    try:\n",
    "        return int(val)\n",
    "    except:\n",
    "        return -1\n",
    "\n",
    "# convert to json to return the result through http\n",
    "def to_json(recommend_list: list()):\n",
    "    movie_dict = {}\n",
    "    for i, movie_id in enumerate(recommend_list):\n",
    "        movie_dict[str(i)] = str(movie_id) \n",
    "    return movie_dict\n",
    "\n",
    "def loadTFIDF(savePath):\n",
    "        \"\"\"\n",
    "            savePath (str): * do not include \".pkl\"\n",
    "        \"\"\"\n",
    "        file_to_read = open(savePath + \".pkl\", \"rb\")\n",
    "        tfidf = pickle.load(file_to_read)\n",
    "        file_to_read.close()\n",
    "        return tfidf    \n",
    "\n",
    "class MOVIE_TFIDF:\n",
    "\n",
    "    def __init__(self, dataPath=None, savePath=None, nrows=None):\n",
    "        \"\"\"\n",
    "            savePath (str): path of the saved MOVIE_TFIDF, not includes '.pkl' \n",
    "        \"\"\"\n",
    "        # to load the existing tfidf\n",
    "        if savePath is not None:\n",
    "            self = loadTFIDF(savePath)\n",
    "        else:\n",
    "            self._data = self.__readData(dataPath, nrows=nrows)\n",
    "            self._tfidf_matrix = self.__computeTFIDFmatrix(self._data['tfidf'])\n",
    "            self.movieid_index = self._data['id']\n",
    "            del self._data\n",
    "            self._cosine_sim = self.__computeSimilarity(self._tfidf_matrix)\n",
    "            del self._tfidf_matrix\n",
    "\n",
    "    def __readData(self, dataPath, nrows):\n",
    "        movies_tfidf = pd.read_csv(dataPath, \n",
    "                                   nrows=nrows, \n",
    "                                   dtype={'title': str, 'genres': str}, \n",
    "                                   converters={'id': conv})\n",
    "        \n",
    "        # drop na and dups\n",
    "        movies_tfidf.dropna(how=\"any\", inplace=True)\n",
    "        movies_tfidf.drop_duplicates(inplace=True)\n",
    "        \n",
    "        # title + genre + overview\n",
    "        genres = movies_tfidf['genres']\n",
    "        title = movies_tfidf['title']\n",
    "        overview = movies_tfidf['overview']\n",
    "        movies_tfidf['tfidf'] = genres + '|' + title + \"|\" + overview\n",
    "        \n",
    "        # set index\n",
    "        movies_tfidf.index = range(len(movies_tfidf))\n",
    "        return movies_tfidf\n",
    "\n",
    "    def __computeTFIDFmatrix(self, movieGenres):\n",
    "        tf = TfidfVectorizer(analyzer='word', \n",
    "                             ngram_range=(1, 2),\n",
    "                             min_df=0, \n",
    "                             stop_words='english')\n",
    "        \n",
    "        tfidf_matrix = tf.fit_transform(movieGenres)\n",
    "        return tfidf_matrix\n",
    "\n",
    "    def __computeSimilarity(self, tfidf_matrix):\n",
    "        cosine_sim = cosine_similarity(X = tfidf_matrix,\n",
    "                                       Y = tfidf_matrix,\n",
    "                                       dense_output = False)\n",
    "        return cosine_sim\n",
    "\n",
    "    def recommend(self, target_id: int, rated_movie_id: list() = None, numRecommendation=10) -> list():\n",
    "        \"\"\"\n",
    "            target_id (int): the movie's id that needs recommendation\n",
    "            numRecommendation (int): number of recommend movies, default = 10\n",
    "            return list(): list of recommend ids\n",
    "        \"\"\"\n",
    "        if any(self.movieid_index.isin([target_id])) is True:\n",
    "            print('Target id is exists')\n",
    "        else:\n",
    "            return ['Target id is not exists']\n",
    "        \n",
    "        recommendLists = []\n",
    "        \n",
    "        # get the index of the target movie\n",
    "        movie_index = self.movieid_index[self.movieid_index == target_id].index\n",
    "        print('The target index: ', movie_index)\n",
    "        print('the target id in data: ', self.movieid_index.loc[movie_index])\n",
    "        \n",
    "        # get all similarities of the target movie and the others\n",
    "        movie_sims = self._cosine_sim[movie_index, :].toarray()[0]\n",
    "        \n",
    "        # sort by sim but get indexes only\n",
    "        sorted_indexes = np.argsort(movie_sims)\n",
    "        \n",
    "        # find most similar movies\n",
    "        for i in sorted_indexes:\n",
    "            if (movie_sims[i] != 1.0 and numRecommendation > 0):\n",
    "                # append the movie's ids\n",
    "                candidate_movie_id = self.movieid_index.loc[i]\n",
    "                # avoid rated movies\n",
    "                if (rated_movie_id is not None) and (candidate_movie_id in rated_movie_id):\n",
    "                    continue\n",
    "                recommendLists.append(candidate_movie_id)\n",
    "                numRecommendation -= 1\n",
    "            else:\n",
    "                break\n",
    "        return recommendLists\n",
    "\n",
    "    def saveTFIDF(self, savePath):\n",
    "        \"\"\"\n",
    "            savePath (str): * do not include \".pkl\"\n",
    "        \"\"\"\n",
    "        file_to_store = open(savePath + \".pkl\", \"wb\")\n",
    "        pickle.dump(self, file_to_store, protocol=4)\n",
    "        file_to_store.close()\n"
   ]
  },
  {
   "cell_type": "code",
   "execution_count": 10,
   "metadata": {
    "executionInfo": {
     "elapsed": 7,
     "status": "ok",
     "timestamp": 1639736618885,
     "user": {
      "displayName": "Luan Nguyen",
      "photoUrl": "https://lh3.googleusercontent.com/a-/AOh14GhXUOKNXLamlM5uNy_sScEB1mcsPUamZM3rX6cf=s64",
      "userId": "06060548113046134760"
     },
     "user_tz": -420
    },
    "id": "KT7GhSXdaPNi"
   },
   "outputs": [],
   "source": [
    "DATA_PATH = './data/movie_tfidf.csv'\n",
    "N_ROWS = None # all rows"
   ]
  },
  {
   "cell_type": "code",
   "execution_count": 11,
   "metadata": {
    "executionInfo": {
     "elapsed": 502,
     "status": "ok",
     "timestamp": 1639736621344,
     "user": {
      "displayName": "Luan Nguyen",
      "photoUrl": "https://lh3.googleusercontent.com/a-/AOh14GhXUOKNXLamlM5uNy_sScEB1mcsPUamZM3rX6cf=s64",
      "userId": "06060548113046134760"
     },
     "user_tz": -420
    },
    "id": "mIs0aAsXS4tD"
   },
   "outputs": [],
   "source": [
    "tfidf = MOVIE_TFIDF(dataPath=DATA_PATH, nrows=N_ROWS)"
   ]
  },
  {
   "cell_type": "code",
   "execution_count": 12,
   "metadata": {
    "colab": {
     "base_uri": "https://localhost:8080/"
    },
    "executionInfo": {
     "elapsed": 402,
     "status": "ok",
     "timestamp": 1639736623503,
     "user": {
      "displayName": "Luan Nguyen",
      "photoUrl": "https://lh3.googleusercontent.com/a-/AOh14GhXUOKNXLamlM5uNy_sScEB1mcsPUamZM3rX6cf=s64",
      "userId": "06060548113046134760"
     },
     "user_tz": -420
    },
    "id": "pwfbbDJggI_C",
    "outputId": "72d2c240-1270-423a-97aa-85145beb93b8"
   },
   "outputs": [
    {
     "data": {
      "text/plain": [
       "['Target id is not exists']"
      ]
     },
     "execution_count": 12,
     "metadata": {},
     "output_type": "execute_result"
    }
   ],
   "source": [
    "tfidf.recommend(target_id=44919)"
   ]
  },
  {
   "cell_type": "code",
   "execution_count": 13,
   "metadata": {
    "colab": {
     "base_uri": "https://localhost:8080/"
    },
    "executionInfo": {
     "elapsed": 384,
     "status": "ok",
     "timestamp": 1639736632563,
     "user": {
      "displayName": "Luan Nguyen",
      "photoUrl": "https://lh3.googleusercontent.com/a-/AOh14GhXUOKNXLamlM5uNy_sScEB1mcsPUamZM3rX6cf=s64",
      "userId": "06060548113046134760"
     },
     "user_tz": -420
    },
    "id": "UsHURz3Dgm7O",
    "outputId": "3276813d-81d8-4123-b0f0-f13ecc7652e2"
   },
   "outputs": [
    {
     "name": "stdout",
     "output_type": "stream",
     "text": [
      "Target id is exists\n",
      "The target index:  Int64Index([0], dtype='int64')\n",
      "the target id in data:  0    862\n",
      "Name: id, dtype: int64\n"
     ]
    },
    {
     "data": {
      "text/plain": [
       "[111109, 4913, 67087, 130492, 1116, 1249, 171771, 1776, 42952, 31148]"
      ]
     },
     "execution_count": 13,
     "metadata": {},
     "output_type": "execute_result"
    }
   ],
   "source": [
    "tfidf.recommend(target_id=862)"
   ]
  },
  {
   "cell_type": "code",
   "execution_count": 14,
   "metadata": {
    "colab": {
     "base_uri": "https://localhost:8080/",
     "height": 206
    },
    "executionInfo": {
     "elapsed": 385,
     "status": "ok",
     "timestamp": 1639736640236,
     "user": {
      "displayName": "Luan Nguyen",
      "photoUrl": "https://lh3.googleusercontent.com/a-/AOh14GhXUOKNXLamlM5uNy_sScEB1mcsPUamZM3rX6cf=s64",
      "userId": "06060548113046134760"
     },
     "user_tz": -420
    },
    "id": "MaAQi28eVXFi",
    "outputId": "41bf8516-5c1f-4e60-a1a5-67d1e5dfadaa"
   },
   "outputs": [
    {
     "data": {
      "text/html": [
       "<div>\n",
       "<style scoped>\n",
       "    .dataframe tbody tr th:only-of-type {\n",
       "        vertical-align: middle;\n",
       "    }\n",
       "\n",
       "    .dataframe tbody tr th {\n",
       "        vertical-align: top;\n",
       "    }\n",
       "\n",
       "    .dataframe thead th {\n",
       "        text-align: right;\n",
       "    }\n",
       "</style>\n",
       "<table border=\"1\" class=\"dataframe\">\n",
       "  <thead>\n",
       "    <tr style=\"text-align: right;\">\n",
       "      <th></th>\n",
       "      <th>movie_id</th>\n",
       "      <th>imdb_id</th>\n",
       "      <th>title</th>\n",
       "      <th>overview</th>\n",
       "      <th>release_date</th>\n",
       "      <th>poster_path</th>\n",
       "    </tr>\n",
       "  </thead>\n",
       "  <tbody>\n",
       "    <tr>\n",
       "      <th>0</th>\n",
       "      <td>862</td>\n",
       "      <td>tt0114709</td>\n",
       "      <td>Toy Story</td>\n",
       "      <td>Led by Woody, Andy's toys live happily in his ...</td>\n",
       "      <td>10/30/1995</td>\n",
       "      <td>/uXDfjJbdP4ijW5hWSBrPrlKpxab.jpg</td>\n",
       "    </tr>\n",
       "    <tr>\n",
       "      <th>1</th>\n",
       "      <td>8844</td>\n",
       "      <td>tt0113497</td>\n",
       "      <td>Jumanji</td>\n",
       "      <td>When siblings Judy and Peter discover an encha...</td>\n",
       "      <td>12/15/1995</td>\n",
       "      <td>/6aGn2X51bahFoOI8wE1h2VGTgcH.jpg</td>\n",
       "    </tr>\n",
       "    <tr>\n",
       "      <th>2</th>\n",
       "      <td>949</td>\n",
       "      <td>tt0113277</td>\n",
       "      <td>Heat</td>\n",
       "      <td>Obsessive master thief, Neil McCauley leads a ...</td>\n",
       "      <td>12/15/1995</td>\n",
       "      <td>/obpPQskaVpSiC9RcJRB6iWDTCXS.jpg</td>\n",
       "    </tr>\n",
       "    <tr>\n",
       "      <th>3</th>\n",
       "      <td>710</td>\n",
       "      <td>tt0113189</td>\n",
       "      <td>GoldenEye</td>\n",
       "      <td>James Bond must unmask the mysterious head of ...</td>\n",
       "      <td>11/16/1995</td>\n",
       "      <td>/bFzjdy6ucvNlXmJwoSoYfufV6lP.jpg</td>\n",
       "    </tr>\n",
       "    <tr>\n",
       "      <th>4</th>\n",
       "      <td>1408</td>\n",
       "      <td>tt0112760</td>\n",
       "      <td>Cutthroat Island</td>\n",
       "      <td>Morgan Adams and her slave, William Shaw, are ...</td>\n",
       "      <td>12/22/1995</td>\n",
       "      <td>/hYdeBZ4BFXivdouxLfQGWNE6zRx.jpg</td>\n",
       "    </tr>\n",
       "  </tbody>\n",
       "</table>\n",
       "</div>"
      ],
      "text/plain": [
       "   movie_id    imdb_id             title  \\\n",
       "0       862  tt0114709         Toy Story   \n",
       "1      8844  tt0113497           Jumanji   \n",
       "2       949  tt0113277              Heat   \n",
       "3       710  tt0113189         GoldenEye   \n",
       "4      1408  tt0112760  Cutthroat Island   \n",
       "\n",
       "                                            overview release_date  \\\n",
       "0  Led by Woody, Andy's toys live happily in his ...   10/30/1995   \n",
       "1  When siblings Judy and Peter discover an encha...   12/15/1995   \n",
       "2  Obsessive master thief, Neil McCauley leads a ...   12/15/1995   \n",
       "3  James Bond must unmask the mysterious head of ...   11/16/1995   \n",
       "4  Morgan Adams and her slave, William Shaw, are ...   12/22/1995   \n",
       "\n",
       "                        poster_path  \n",
       "0  /uXDfjJbdP4ijW5hWSBrPrlKpxab.jpg  \n",
       "1  /6aGn2X51bahFoOI8wE1h2VGTgcH.jpg  \n",
       "2  /obpPQskaVpSiC9RcJRB6iWDTCXS.jpg  \n",
       "3  /bFzjdy6ucvNlXmJwoSoYfufV6lP.jpg  \n",
       "4  /hYdeBZ4BFXivdouxLfQGWNE6zRx.jpg  "
      ]
     },
     "execution_count": 14,
     "metadata": {},
     "output_type": "execute_result"
    }
   ],
   "source": [
    "movies = pd.read_csv('./data/Movies.csv', \n",
    "                     dtype={'movie_id': int})\n",
    "movies.head()"
   ]
  },
  {
   "cell_type": "code",
   "execution_count": 15,
   "metadata": {
    "colab": {
     "base_uri": "https://localhost:8080/"
    },
    "executionInfo": {
     "elapsed": 353,
     "status": "ok",
     "timestamp": 1639736643139,
     "user": {
      "displayName": "Luan Nguyen",
      "photoUrl": "https://lh3.googleusercontent.com/a-/AOh14GhXUOKNXLamlM5uNy_sScEB1mcsPUamZM3rX6cf=s64",
      "userId": "06060548113046134760"
     },
     "user_tz": -420
    },
    "id": "CIuDt_NAaGOO",
    "outputId": "8cb6a61b-5bc2-4f73-a1c8-bd71474fdf42"
   },
   "outputs": [
    {
     "name": "stdout",
     "output_type": "stream",
     "text": [
      "Target id is exists\n",
      "The target index:  Int64Index([0], dtype='int64')\n",
      "the target id in data:  0    862\n",
      "Name: id, dtype: int64\n"
     ]
    }
   ],
   "source": [
    "recommendation = tfidf.recommend(target_id=862)"
   ]
  },
  {
   "cell_type": "code",
   "execution_count": 16,
   "metadata": {
    "colab": {
     "base_uri": "https://localhost:8080/",
     "height": 81
    },
    "executionInfo": {
     "elapsed": 396,
     "status": "ok",
     "timestamp": 1639736645835,
     "user": {
      "displayName": "Luan Nguyen",
      "photoUrl": "https://lh3.googleusercontent.com/a-/AOh14GhXUOKNXLamlM5uNy_sScEB1mcsPUamZM3rX6cf=s64",
      "userId": "06060548113046134760"
     },
     "user_tz": -420
    },
    "id": "Npy0tcDpVr0B",
    "outputId": "b6b36b3b-9510-43c2-ea80-28d1baba3826"
   },
   "outputs": [
    {
     "data": {
      "text/html": [
       "<div>\n",
       "<style scoped>\n",
       "    .dataframe tbody tr th:only-of-type {\n",
       "        vertical-align: middle;\n",
       "    }\n",
       "\n",
       "    .dataframe tbody tr th {\n",
       "        vertical-align: top;\n",
       "    }\n",
       "\n",
       "    .dataframe thead th {\n",
       "        text-align: right;\n",
       "    }\n",
       "</style>\n",
       "<table border=\"1\" class=\"dataframe\">\n",
       "  <thead>\n",
       "    <tr style=\"text-align: right;\">\n",
       "      <th></th>\n",
       "      <th>movie_id</th>\n",
       "      <th>imdb_id</th>\n",
       "      <th>title</th>\n",
       "      <th>overview</th>\n",
       "      <th>release_date</th>\n",
       "      <th>poster_path</th>\n",
       "    </tr>\n",
       "  </thead>\n",
       "  <tbody>\n",
       "    <tr>\n",
       "      <th>0</th>\n",
       "      <td>862</td>\n",
       "      <td>tt0114709</td>\n",
       "      <td>Toy Story</td>\n",
       "      <td>Led by Woody, Andy's toys live happily in his ...</td>\n",
       "      <td>10/30/1995</td>\n",
       "      <td>/uXDfjJbdP4ijW5hWSBrPrlKpxab.jpg</td>\n",
       "    </tr>\n",
       "  </tbody>\n",
       "</table>\n",
       "</div>"
      ],
      "text/plain": [
       "   movie_id    imdb_id      title  \\\n",
       "0       862  tt0114709  Toy Story   \n",
       "\n",
       "                                            overview release_date  \\\n",
       "0  Led by Woody, Andy's toys live happily in his ...   10/30/1995   \n",
       "\n",
       "                        poster_path  \n",
       "0  /uXDfjJbdP4ijW5hWSBrPrlKpxab.jpg  "
      ]
     },
     "execution_count": 16,
     "metadata": {},
     "output_type": "execute_result"
    }
   ],
   "source": [
    "movies[movies['movie_id']==862]"
   ]
  },
  {
   "cell_type": "code",
   "execution_count": 17,
   "metadata": {
    "colab": {
     "base_uri": "https://localhost:8080/",
     "height": 363
    },
    "executionInfo": {
     "elapsed": 9,
     "status": "ok",
     "timestamp": 1639736647531,
     "user": {
      "displayName": "Luan Nguyen",
      "photoUrl": "https://lh3.googleusercontent.com/a-/AOh14GhXUOKNXLamlM5uNy_sScEB1mcsPUamZM3rX6cf=s64",
      "userId": "06060548113046134760"
     },
     "user_tz": -420
    },
    "id": "-3QhbZg_WDJJ",
    "outputId": "e3261059-d38d-4818-fedb-70429ba1a36a"
   },
   "outputs": [
    {
     "data": {
      "text/html": [
       "<div>\n",
       "<style scoped>\n",
       "    .dataframe tbody tr th:only-of-type {\n",
       "        vertical-align: middle;\n",
       "    }\n",
       "\n",
       "    .dataframe tbody tr th {\n",
       "        vertical-align: top;\n",
       "    }\n",
       "\n",
       "    .dataframe thead th {\n",
       "        text-align: right;\n",
       "    }\n",
       "</style>\n",
       "<table border=\"1\" class=\"dataframe\">\n",
       "  <thead>\n",
       "    <tr style=\"text-align: right;\">\n",
       "      <th></th>\n",
       "      <th>movie_id</th>\n",
       "      <th>imdb_id</th>\n",
       "      <th>title</th>\n",
       "      <th>overview</th>\n",
       "      <th>release_date</th>\n",
       "      <th>poster_path</th>\n",
       "    </tr>\n",
       "  </thead>\n",
       "  <tbody>\n",
       "    <tr>\n",
       "      <th>2542</th>\n",
       "      <td>4913</td>\n",
       "      <td>tt0425600</td>\n",
       "      <td>Sorry, Haters</td>\n",
       "      <td>Against the anxieties and fears of post-9/11 A...</td>\n",
       "      <td>9/10/2005</td>\n",
       "      <td>/5jA1Ka8ZvjNbBDkhQ7LowcCi5Zh.jpg</td>\n",
       "    </tr>\n",
       "    <tr>\n",
       "      <th>2546</th>\n",
       "      <td>1116</td>\n",
       "      <td>tt0460989</td>\n",
       "      <td>The Wind That Shakes the Barley</td>\n",
       "      <td>In 1920s Ireland young doctor Damien O'Donovan...</td>\n",
       "      <td>6/23/2006</td>\n",
       "      <td>/9XquDdOGrlC0EAbPoOXALqS2dDh.jpg</td>\n",
       "    </tr>\n",
       "    <tr>\n",
       "      <th>2549</th>\n",
       "      <td>1249</td>\n",
       "      <td>tt0427969</td>\n",
       "      <td>Hollywoodland</td>\n",
       "      <td>The complicated life and controversial suicide...</td>\n",
       "      <td>8/31/2006</td>\n",
       "      <td>/fhLRUXpVGBsDL2dMWkOwuPNzlrq.jpg</td>\n",
       "    </tr>\n",
       "    <tr>\n",
       "      <th>2550</th>\n",
       "      <td>171771</td>\n",
       "      <td>tt2449612</td>\n",
       "      <td>The Scar</td>\n",
       "      <td>The Scar draws an intense psychological suspen...</td>\n",
       "      <td>3/3/2013</td>\n",
       "      <td>NaN</td>\n",
       "    </tr>\n",
       "    <tr>\n",
       "      <th>2551</th>\n",
       "      <td>1776</td>\n",
       "      <td>tt0486358</td>\n",
       "      <td>Jesus Camp</td>\n",
       "      <td>A growing number of Evangelical Christians bel...</td>\n",
       "      <td>9/15/2006</td>\n",
       "      <td>/6ueSRBYaicEYvR2sFHVvptKNaxI.jpg</td>\n",
       "    </tr>\n",
       "    <tr>\n",
       "      <th>2555</th>\n",
       "      <td>31148</td>\n",
       "      <td>tt0032342</td>\n",
       "      <td>City for Conquest</td>\n",
       "      <td>The heartbreaking but hopeful tale of Danny Ke...</td>\n",
       "      <td>9/21/1940</td>\n",
       "      <td>/voqHla2OkukEyVgQBOuMjhzWUCu.jpg</td>\n",
       "    </tr>\n",
       "    <tr>\n",
       "      <th>4952</th>\n",
       "      <td>42952</td>\n",
       "      <td>tt0401089</td>\n",
       "      <td>72 Meters</td>\n",
       "      <td>The film begins in the 1980s Soviet Union. Two...</td>\n",
       "      <td>2/12/2004</td>\n",
       "      <td>/iMQetgfzrxeBjy61KJK31jaZG2o.jpg</td>\n",
       "    </tr>\n",
       "    <tr>\n",
       "      <th>4955</th>\n",
       "      <td>130492</td>\n",
       "      <td>tt0276594</td>\n",
       "      <td>Uno bianca</td>\n",
       "      <td>Rimini, 1991. For more than a year, the uno bi...</td>\n",
       "      <td>2/5/2001</td>\n",
       "      <td>/dOH8DzZIieH9NOJxF5LXxBe0HaZ.jpg</td>\n",
       "    </tr>\n",
       "    <tr>\n",
       "      <th>4956</th>\n",
       "      <td>67087</td>\n",
       "      <td>tt0085385</td>\n",
       "      <td>Curtains</td>\n",
       "      <td>Six young actresses auditioning for a movie ro...</td>\n",
       "      <td>3/4/1983</td>\n",
       "      <td>/jpMClX0G1Gsia1Dn1HaFGPXqjd0.jpg</td>\n",
       "    </tr>\n",
       "    <tr>\n",
       "      <th>5541</th>\n",
       "      <td>111109</td>\n",
       "      <td>tt2028550</td>\n",
       "      <td>Century of Birthing</td>\n",
       "      <td>An artist struggles to finish his work while a...</td>\n",
       "      <td>11/17/2011</td>\n",
       "      <td>/Z0qIhiDpdm2Sd8V2M1Nk6oLKdP.jpg</td>\n",
       "    </tr>\n",
       "  </tbody>\n",
       "</table>\n",
       "</div>"
      ],
      "text/plain": [
       "      movie_id    imdb_id                            title  \\\n",
       "2542      4913  tt0425600                    Sorry, Haters   \n",
       "2546      1116  tt0460989  The Wind That Shakes the Barley   \n",
       "2549      1249  tt0427969                    Hollywoodland   \n",
       "2550    171771  tt2449612                         The Scar   \n",
       "2551      1776  tt0486358                       Jesus Camp   \n",
       "2555     31148  tt0032342                City for Conquest   \n",
       "4952     42952  tt0401089                        72 Meters   \n",
       "4955    130492  tt0276594                       Uno bianca   \n",
       "4956     67087  tt0085385                         Curtains   \n",
       "5541    111109  tt2028550              Century of Birthing   \n",
       "\n",
       "                                               overview release_date  \\\n",
       "2542  Against the anxieties and fears of post-9/11 A...    9/10/2005   \n",
       "2546  In 1920s Ireland young doctor Damien O'Donovan...    6/23/2006   \n",
       "2549  The complicated life and controversial suicide...    8/31/2006   \n",
       "2550  The Scar draws an intense psychological suspen...     3/3/2013   \n",
       "2551  A growing number of Evangelical Christians bel...    9/15/2006   \n",
       "2555  The heartbreaking but hopeful tale of Danny Ke...    9/21/1940   \n",
       "4952  The film begins in the 1980s Soviet Union. Two...    2/12/2004   \n",
       "4955  Rimini, 1991. For more than a year, the uno bi...     2/5/2001   \n",
       "4956  Six young actresses auditioning for a movie ro...     3/4/1983   \n",
       "5541  An artist struggles to finish his work while a...   11/17/2011   \n",
       "\n",
       "                           poster_path  \n",
       "2542  /5jA1Ka8ZvjNbBDkhQ7LowcCi5Zh.jpg  \n",
       "2546  /9XquDdOGrlC0EAbPoOXALqS2dDh.jpg  \n",
       "2549  /fhLRUXpVGBsDL2dMWkOwuPNzlrq.jpg  \n",
       "2550                               NaN  \n",
       "2551  /6ueSRBYaicEYvR2sFHVvptKNaxI.jpg  \n",
       "2555  /voqHla2OkukEyVgQBOuMjhzWUCu.jpg  \n",
       "4952  /iMQetgfzrxeBjy61KJK31jaZG2o.jpg  \n",
       "4955  /dOH8DzZIieH9NOJxF5LXxBe0HaZ.jpg  \n",
       "4956  /jpMClX0G1Gsia1Dn1HaFGPXqjd0.jpg  \n",
       "5541   /Z0qIhiDpdm2Sd8V2M1Nk6oLKdP.jpg  "
      ]
     },
     "execution_count": 17,
     "metadata": {},
     "output_type": "execute_result"
    }
   ],
   "source": [
    "movies[movies['movie_id'].isin(recommendation)]"
   ]
  },
  {
   "cell_type": "code",
   "execution_count": 18,
   "metadata": {
    "id": "VI4M-Voraltm"
   },
   "outputs": [],
   "source": [
    "tfidf.saveTFIDF('./model/tfidf')"
   ]
  },
  {
   "cell_type": "code",
   "execution_count": 21,
   "metadata": {
    "id": "Gtvzfa2pn-g4"
   },
   "outputs": [],
   "source": [
    "load_tfidf = loadTFIDF('./model/tfidf')"
   ]
  },
  {
   "cell_type": "code",
   "execution_count": 22,
   "metadata": {
    "colab": {
     "base_uri": "https://localhost:8080/"
    },
    "executionInfo": {
     "elapsed": 459,
     "status": "ok",
     "timestamp": 1639727725323,
     "user": {
      "displayName": "Luan Nguyen",
      "photoUrl": "https://lh3.googleusercontent.com/a-/AOh14GhXUOKNXLamlM5uNy_sScEB1mcsPUamZM3rX6cf=s64",
      "userId": "06060548113046134760"
     },
     "user_tz": -420
    },
    "id": "swkEbPftrq_g",
    "outputId": "6d4f65ae-8c1c-44a5-f0ed-c11b7ade7410"
   },
   "outputs": [
    {
     "data": {
      "text/plain": [
       "['Target id is not exists']"
      ]
     },
     "execution_count": 22,
     "metadata": {},
     "output_type": "execute_result"
    }
   ],
   "source": [
    "load_tfidf.recommend(44919)"
   ]
  },
  {
   "cell_type": "code",
   "execution_count": 23,
   "metadata": {
    "colab": {
     "base_uri": "https://localhost:8080/"
    },
    "executionInfo": {
     "elapsed": 14,
     "status": "ok",
     "timestamp": 1639727739416,
     "user": {
      "displayName": "Luan Nguyen",
      "photoUrl": "https://lh3.googleusercontent.com/a-/AOh14GhXUOKNXLamlM5uNy_sScEB1mcsPUamZM3rX6cf=s64",
      "userId": "06060548113046134760"
     },
     "user_tz": -420
    },
    "id": "nkM3C5u-saQ-",
    "outputId": "04e4a6a5-036f-435b-e6c2-7dc43bb1b040"
   },
   "outputs": [
    {
     "name": "stdout",
     "output_type": "stream",
     "text": [
      "Target id is exists\n",
      "The target index:  Int64Index([3219], dtype='int64')\n",
      "the target id in data:  3219    107643\n",
      "Name: id, dtype: int64\n"
     ]
    }
   ],
   "source": [
    "recommendation = load_tfidf.recommend(target_id=107643)"
   ]
  },
  {
   "cell_type": "code",
   "execution_count": null,
   "metadata": {},
   "outputs": [],
   "source": []
  }
 ],
 "metadata": {
  "colab": {
   "collapsed_sections": [],
   "machine_shape": "hm",
   "name": "tfidf_25gb.ipynb",
   "provenance": [
    {
     "file_id": "https://github.com/Santosh-Gupta/NaturalLanguageRecommendations/blob/master/notebooks/inference/DemoNaturalLanguageRecommendationsCPU_Autofeedback.ipynb",
     "timestamp": 1639641984669
    }
   ]
  },
  "kernelspec": {
   "display_name": "Python 3",
   "language": "python",
   "name": "python3"
  },
  "language_info": {
   "codemirror_mode": {
    "name": "ipython",
    "version": 3
   },
   "file_extension": ".py",
   "mimetype": "text/x-python",
   "name": "python",
   "nbconvert_exporter": "python",
   "pygments_lexer": "ipython3",
   "version": "3.7.4"
  }
 },
 "nbformat": 4,
 "nbformat_minor": 1
}
