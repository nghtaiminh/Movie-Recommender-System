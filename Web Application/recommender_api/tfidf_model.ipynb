{
 "cells": [
  {
   "cell_type": "code",
   "execution_count": 9,
   "metadata": {
    "executionInfo": {
     "elapsed": 502,
     "status": "ok",
     "timestamp": 1639736046677,
     "user": {
      "displayName": "Luan Nguyen",
      "photoUrl": "https://lh3.googleusercontent.com/a-/AOh14GhXUOKNXLamlM5uNy_sScEB1mcsPUamZM3rX6cf=s64",
      "userId": "06060548113046134760"
     },
     "user_tz": -420
    },
    "id": "cdS4whpZSoVm"
   },
   "outputs": [],
   "source": [
    "# for recommender\n",
    "import pandas as pd\n",
    "from sklearn.feature_extraction.text import TfidfVectorizer\n",
    "from sklearn.metrics.pairwise import cosine_similarity\n",
    "import numpy as np\n",
    "import pickle"
   ]
  },
  {
   "cell_type": "code",
   "execution_count": 34,
   "metadata": {
    "executionInfo": {
     "elapsed": 382,
     "status": "ok",
     "timestamp": 1639736617600,
     "user": {
      "displayName": "Luan Nguyen",
      "photoUrl": "https://lh3.googleusercontent.com/a-/AOh14GhXUOKNXLamlM5uNy_sScEB1mcsPUamZM3rX6cf=s64",
      "userId": "06060548113046134760"
     },
     "user_tz": -420
    },
    "id": "1hTiMtF_G44o"
   },
   "outputs": [],
   "source": [
    "def conv(val):\n",
    "    try:\n",
    "        return int(val)\n",
    "    except:\n",
    "        return -1\n",
    "\n",
    "# convert to json to return the result through http\n",
    "def to_json(recommend_list: list()):\n",
    "    movie_dict = {}\n",
    "    for i, movie_id in enumerate(recommend_list):\n",
    "        movie_dict[str(i)] = str(movie_id) \n",
    "    return movie_dict\n",
    "\n",
    "def loadTFIDF(savePath):\n",
    "        \"\"\"\n",
    "            savePath (str): * do not include \".pickle\"\n",
    "        \"\"\"\n",
    "        file_to_read = open(savePath + \".pickle\", \"rb\")\n",
    "        tfidf = pickle.load(file_to_read)\n",
    "        file_to_read.close()\n",
    "        return tfidf    \n",
    "\n",
    "class MOVIE_TFIDF:\n",
    "\n",
    "    def __init__(self, dataPath=None, savePath=None, nrows=None):\n",
    "        \"\"\"\n",
    "            savePath (str): path of the saved MOVIE_TFIDF, not includes '.pkl' \n",
    "        \"\"\"\n",
    "        # to load the existing tfidf\n",
    "        if savePath is not None:\n",
    "            self = loadTFIDF(savePath)\n",
    "        else:\n",
    "            self._data = self.__readData(dataPath, nrows=nrows)\n",
    "            self._tfidf_matrix = self.__computeTFIDFmatrix(self._data['tfidf'])\n",
    "            self.movieid_index = self._data['id']\n",
    "            del self._data\n",
    "            self._cosine_sim = self.__computeSimilarity(self._tfidf_matrix)\n",
    "            del self._tfidf_matrix\n",
    "\n",
    "    def __readData(self, dataPath, nrows):\n",
    "        movies_tfidf = pd.read_csv(dataPath, \n",
    "                                   nrows=nrows, \n",
    "                                   dtype={'title': str, 'genres': str}, \n",
    "                                   converters={'id': conv})\n",
    "        \n",
    "        # drop na and dups\n",
    "        movies_tfidf.dropna(how=\"any\", inplace=True)\n",
    "        movies_tfidf.drop_duplicates(inplace=True)\n",
    "        \n",
    "        # title + genre + overview\n",
    "        genres = movies_tfidf['genres']\n",
    "        title = movies_tfidf['title']\n",
    "        overview = movies_tfidf['overview']\n",
    "        movies_tfidf['tfidf'] = genres + '|' + title + \"|\" + overview\n",
    "        \n",
    "        # set index\n",
    "        movies_tfidf.index = range(len(movies_tfidf))\n",
    "        return movies_tfidf\n",
    "\n",
    "    def __computeTFIDFmatrix(self, movieGenres):\n",
    "        tf = TfidfVectorizer(analyzer='word', \n",
    "                             ngram_range=(1, 2),\n",
    "                             min_df=0, \n",
    "                             stop_words='english')\n",
    "        \n",
    "        tfidf_matrix = tf.fit_transform(movieGenres)\n",
    "        return tfidf_matrix\n",
    "\n",
    "    def __computeSimilarity(self, tfidf_matrix):\n",
    "        cosine_sim = cosine_similarity(X = tfidf_matrix,\n",
    "                                       Y = tfidf_matrix,\n",
    "                                       dense_output = False)\n",
    "        return cosine_sim\n",
    "\n",
    "    def recommend(self, target_id: int, rated_movie_id: list() = None, numRecommendation=10) -> list():\n",
    "        \"\"\"\n",
    "            target_id (int): the movie's id that needs recommendation\n",
    "            numRecommendation (int): number of recommend movies, default = 10\n",
    "            return list(): list of recommend ids\n",
    "        \"\"\"\n",
    "        if any(self.movieid_index.isin([target_id])) is True:\n",
    "            print('Target id is exists')\n",
    "        else:\n",
    "            return ['Target id is not exists']\n",
    "        \n",
    "        recommendLists = []\n",
    "        \n",
    "        # get the index of the target movie\n",
    "        movie_index = self.movieid_index[self.movieid_index == target_id].index\n",
    "        print('The target index: ', movie_index)\n",
    "        print('the target id in data: ', self.movieid_index.loc[movie_index])\n",
    "        \n",
    "        # get all similarities of the target movie and the others\n",
    "        movie_sims = self._cosine_sim[movie_index, :].toarray()[0]\n",
    "        \n",
    "        # sort by sim but get indexes only\n",
    "        sorted_indexes = np.argsort(movie_sims)\n",
    "        \n",
    "        # find most similar movies\n",
    "        for i in sorted_indexes:\n",
    "            if (movie_sims[i] != 1.0 and numRecommendation > 0):\n",
    "                # append the movie's ids\n",
    "                candidate_movie_id = self.movieid_index.loc[i]\n",
    "                # avoid rated movies\n",
    "                if (rated_movie_id is not None) and (candidate_movie_id in rated_movie_id):\n",
    "                    continue\n",
    "                recommendLists.append(candidate_movie_id)\n",
    "                numRecommendation -= 1\n",
    "            else:\n",
    "                break\n",
    "        return recommendLists\n",
    "\n",
    "    def saveTFIDF(self, savePath):\n",
    "        \"\"\"\n",
    "            savePath (str): * do not include \".pickle\"\n",
    "        \"\"\"\n",
    "        file_to_store = open(savePath + \".pkl\", \"wb\")\n",
    "        pickle.dump(self, file_to_store, protocol=4)\n",
    "        file_to_store.close()\n"
   ]
  },
  {
   "cell_type": "code",
   "execution_count": 35,
   "metadata": {
    "executionInfo": {
     "elapsed": 7,
     "status": "ok",
     "timestamp": 1639736618885,
     "user": {
      "displayName": "Luan Nguyen",
      "photoUrl": "https://lh3.googleusercontent.com/a-/AOh14GhXUOKNXLamlM5uNy_sScEB1mcsPUamZM3rX6cf=s64",
      "userId": "06060548113046134760"
     },
     "user_tz": -420
    },
    "id": "KT7GhSXdaPNi"
   },
   "outputs": [],
   "source": [
    "DATA_PATH = './data/movie_tfidf.csv'\n",
    "N_ROWS = None # all rows"
   ]
  },
  {
   "cell_type": "code",
   "execution_count": 36,
   "metadata": {
    "executionInfo": {
     "elapsed": 502,
     "status": "ok",
     "timestamp": 1639736621344,
     "user": {
      "displayName": "Luan Nguyen",
      "photoUrl": "https://lh3.googleusercontent.com/a-/AOh14GhXUOKNXLamlM5uNy_sScEB1mcsPUamZM3rX6cf=s64",
      "userId": "06060548113046134760"
     },
     "user_tz": -420
    },
    "id": "mIs0aAsXS4tD"
   },
   "outputs": [],
   "source": [
    "tfidf = MOVIE_TFIDF(dataPath=DATA_PATH, nrows=N_ROWS)"
   ]
  },
  {
   "cell_type": "code",
   "execution_count": 37,
   "metadata": {
    "colab": {
     "base_uri": "https://localhost:8080/"
    },
    "executionInfo": {
     "elapsed": 402,
     "status": "ok",
     "timestamp": 1639736623503,
     "user": {
      "displayName": "Luan Nguyen",
      "photoUrl": "https://lh3.googleusercontent.com/a-/AOh14GhXUOKNXLamlM5uNy_sScEB1mcsPUamZM3rX6cf=s64",
      "userId": "06060548113046134760"
     },
     "user_tz": -420
    },
    "id": "pwfbbDJggI_C",
    "outputId": "72d2c240-1270-423a-97aa-85145beb93b8"
   },
   "outputs": [
    {
     "data": {
      "text/plain": [
       "['Target id is not exists']"
      ]
     },
     "execution_count": 37,
     "metadata": {},
     "output_type": "execute_result"
    }
   ],
   "source": [
    "tfidf.recommend(target_id=44919)"
   ]
  },
  {
   "cell_type": "code",
   "execution_count": 38,
   "metadata": {
    "colab": {
     "base_uri": "https://localhost:8080/"
    },
    "executionInfo": {
     "elapsed": 384,
     "status": "ok",
     "timestamp": 1639736632563,
     "user": {
      "displayName": "Luan Nguyen",
      "photoUrl": "https://lh3.googleusercontent.com/a-/AOh14GhXUOKNXLamlM5uNy_sScEB1mcsPUamZM3rX6cf=s64",
      "userId": "06060548113046134760"
     },
     "user_tz": -420
    },
    "id": "UsHURz3Dgm7O",
    "outputId": "3276813d-81d8-4123-b0f0-f13ecc7652e2"
   },
   "outputs": [
    {
     "name": "stdout",
     "output_type": "stream",
     "text": [
      "Target id is exists\n",
      "The target index:  Int64Index([0], dtype='int64')\n",
      "the target id in data:  0    862\n",
      "Name: id, dtype: int64\n"
     ]
    },
    {
     "data": {
      "text/plain": [
       "[1571, 31687, 111310, 94917, 107643, 44399, 32084, 42191, 1549, 26694]"
      ]
     },
     "execution_count": 38,
     "metadata": {},
     "output_type": "execute_result"
    }
   ],
   "source": [
    "tfidf.recommend(target_id=862)"
   ]
  },
  {
   "cell_type": "code",
   "execution_count": 39,
   "metadata": {
    "colab": {
     "base_uri": "https://localhost:8080/",
     "height": 206
    },
    "executionInfo": {
     "elapsed": 385,
     "status": "ok",
     "timestamp": 1639736640236,
     "user": {
      "displayName": "Luan Nguyen",
      "photoUrl": "https://lh3.googleusercontent.com/a-/AOh14GhXUOKNXLamlM5uNy_sScEB1mcsPUamZM3rX6cf=s64",
      "userId": "06060548113046134760"
     },
     "user_tz": -420
    },
    "id": "MaAQi28eVXFi",
    "outputId": "41bf8516-5c1f-4e60-a1a5-67d1e5dfadaa"
   },
   "outputs": [
    {
     "data": {
      "text/html": [
       "\n",
       "  <div id=\"df-260b612d-f543-4f9a-b29d-9654e0960158\">\n",
       "    <div class=\"colab-df-container\">\n",
       "      <div>\n",
       "<style scoped>\n",
       "    .dataframe tbody tr th:only-of-type {\n",
       "        vertical-align: middle;\n",
       "    }\n",
       "\n",
       "    .dataframe tbody tr th {\n",
       "        vertical-align: top;\n",
       "    }\n",
       "\n",
       "    .dataframe thead th {\n",
       "        text-align: right;\n",
       "    }\n",
       "</style>\n",
       "<table border=\"1\" class=\"dataframe\">\n",
       "  <thead>\n",
       "    <tr style=\"text-align: right;\">\n",
       "      <th></th>\n",
       "      <th>movie_id</th>\n",
       "      <th>imdb_id</th>\n",
       "      <th>title</th>\n",
       "      <th>overview</th>\n",
       "      <th>release_date</th>\n",
       "      <th>poster_paths</th>\n",
       "    </tr>\n",
       "  </thead>\n",
       "  <tbody>\n",
       "    <tr>\n",
       "      <th>0</th>\n",
       "      <td>862</td>\n",
       "      <td>tt0114709</td>\n",
       "      <td>Toy Story</td>\n",
       "      <td>Led by Woody, Andy's toys live happily in his ...</td>\n",
       "      <td>1995-10-30</td>\n",
       "      <td>/7G9915LfUQ2lVfwMEEhDsn3kT4B.jpg</td>\n",
       "    </tr>\n",
       "    <tr>\n",
       "      <th>1</th>\n",
       "      <td>8844</td>\n",
       "      <td>tt0113497</td>\n",
       "      <td>Jumanji</td>\n",
       "      <td>When siblings Judy and Peter discover an encha...</td>\n",
       "      <td>1995-12-15</td>\n",
       "      <td>NaN</td>\n",
       "    </tr>\n",
       "    <tr>\n",
       "      <th>2</th>\n",
       "      <td>949</td>\n",
       "      <td>tt0113277</td>\n",
       "      <td>Heat</td>\n",
       "      <td>Obsessive master thief, Neil McCauley leads a ...</td>\n",
       "      <td>1995-12-15</td>\n",
       "      <td>NaN</td>\n",
       "    </tr>\n",
       "    <tr>\n",
       "      <th>3</th>\n",
       "      <td>710</td>\n",
       "      <td>tt0113189</td>\n",
       "      <td>GoldenEye</td>\n",
       "      <td>James Bond must unmask the mysterious head of ...</td>\n",
       "      <td>1995-11-16</td>\n",
       "      <td>/HORpg5CSkmeQlAolx3bKMrKgfi.jpg</td>\n",
       "    </tr>\n",
       "    <tr>\n",
       "      <th>4</th>\n",
       "      <td>1408</td>\n",
       "      <td>tt0112760</td>\n",
       "      <td>Cutthroat Island</td>\n",
       "      <td>Morgan Adams and her slave, William Shaw, are ...</td>\n",
       "      <td>1995-12-22</td>\n",
       "      <td>NaN</td>\n",
       "    </tr>\n",
       "  </tbody>\n",
       "</table>\n",
       "</div>\n",
       "      <button class=\"colab-df-convert\" onclick=\"convertToInteractive('df-260b612d-f543-4f9a-b29d-9654e0960158')\"\n",
       "              title=\"Convert this dataframe to an interactive table.\"\n",
       "              style=\"display:none;\">\n",
       "        \n",
       "  <svg xmlns=\"http://www.w3.org/2000/svg\" height=\"24px\"viewBox=\"0 0 24 24\"\n",
       "       width=\"24px\">\n",
       "    <path d=\"M0 0h24v24H0V0z\" fill=\"none\"/>\n",
       "    <path d=\"M18.56 5.44l.94 2.06.94-2.06 2.06-.94-2.06-.94-.94-2.06-.94 2.06-2.06.94zm-11 1L8.5 8.5l.94-2.06 2.06-.94-2.06-.94L8.5 2.5l-.94 2.06-2.06.94zm10 10l.94 2.06.94-2.06 2.06-.94-2.06-.94-.94-2.06-.94 2.06-2.06.94z\"/><path d=\"M17.41 7.96l-1.37-1.37c-.4-.4-.92-.59-1.43-.59-.52 0-1.04.2-1.43.59L10.3 9.45l-7.72 7.72c-.78.78-.78 2.05 0 2.83L4 21.41c.39.39.9.59 1.41.59.51 0 1.02-.2 1.41-.59l7.78-7.78 2.81-2.81c.8-.78.8-2.07 0-2.86zM5.41 20L4 18.59l7.72-7.72 1.47 1.35L5.41 20z\"/>\n",
       "  </svg>\n",
       "      </button>\n",
       "      \n",
       "  <style>\n",
       "    .colab-df-container {\n",
       "      display:flex;\n",
       "      flex-wrap:wrap;\n",
       "      gap: 12px;\n",
       "    }\n",
       "\n",
       "    .colab-df-convert {\n",
       "      background-color: #E8F0FE;\n",
       "      border: none;\n",
       "      border-radius: 50%;\n",
       "      cursor: pointer;\n",
       "      display: none;\n",
       "      fill: #1967D2;\n",
       "      height: 32px;\n",
       "      padding: 0 0 0 0;\n",
       "      width: 32px;\n",
       "    }\n",
       "\n",
       "    .colab-df-convert:hover {\n",
       "      background-color: #E2EBFA;\n",
       "      box-shadow: 0px 1px 2px rgba(60, 64, 67, 0.3), 0px 1px 3px 1px rgba(60, 64, 67, 0.15);\n",
       "      fill: #174EA6;\n",
       "    }\n",
       "\n",
       "    [theme=dark] .colab-df-convert {\n",
       "      background-color: #3B4455;\n",
       "      fill: #D2E3FC;\n",
       "    }\n",
       "\n",
       "    [theme=dark] .colab-df-convert:hover {\n",
       "      background-color: #434B5C;\n",
       "      box-shadow: 0px 1px 3px 1px rgba(0, 0, 0, 0.15);\n",
       "      filter: drop-shadow(0px 1px 2px rgba(0, 0, 0, 0.3));\n",
       "      fill: #FFFFFF;\n",
       "    }\n",
       "  </style>\n",
       "\n",
       "      <script>\n",
       "        const buttonEl =\n",
       "          document.querySelector('#df-260b612d-f543-4f9a-b29d-9654e0960158 button.colab-df-convert');\n",
       "        buttonEl.style.display =\n",
       "          google.colab.kernel.accessAllowed ? 'block' : 'none';\n",
       "\n",
       "        async function convertToInteractive(key) {\n",
       "          const element = document.querySelector('#df-260b612d-f543-4f9a-b29d-9654e0960158');\n",
       "          const dataTable =\n",
       "            await google.colab.kernel.invokeFunction('convertToInteractive',\n",
       "                                                     [key], {});\n",
       "          if (!dataTable) return;\n",
       "\n",
       "          const docLinkHtml = 'Like what you see? Visit the ' +\n",
       "            '<a target=\"_blank\" href=https://colab.research.google.com/notebooks/data_table.ipynb>data table notebook</a>'\n",
       "            + ' to learn more about interactive tables.';\n",
       "          element.innerHTML = '';\n",
       "          dataTable['output_type'] = 'display_data';\n",
       "          await google.colab.output.renderOutput(dataTable, element);\n",
       "          const docLink = document.createElement('div');\n",
       "          docLink.innerHTML = docLinkHtml;\n",
       "          element.appendChild(docLink);\n",
       "        }\n",
       "      </script>\n",
       "    </div>\n",
       "  </div>\n",
       "  "
      ],
      "text/plain": [
       "   movie_id    imdb_id  ... release_date                      poster_paths\n",
       "0       862  tt0114709  ...   1995-10-30  /7G9915LfUQ2lVfwMEEhDsn3kT4B.jpg\n",
       "1      8844  tt0113497  ...   1995-12-15                               NaN\n",
       "2       949  tt0113277  ...   1995-12-15                               NaN\n",
       "3       710  tt0113189  ...   1995-11-16   /HORpg5CSkmeQlAolx3bKMrKgfi.jpg\n",
       "4      1408  tt0112760  ...   1995-12-22                               NaN\n",
       "\n",
       "[5 rows x 6 columns]"
      ]
     },
     "execution_count": 39,
     "metadata": {},
     "output_type": "execute_result"
    }
   ],
   "source": [
    "movies = pd.read_csv('./data/Movies.csv', \n",
    "                     dtype={'movie_id': int})\n",
    "movies.head()"
   ]
  },
  {
   "cell_type": "code",
   "execution_count": 40,
   "metadata": {
    "colab": {
     "base_uri": "https://localhost:8080/"
    },
    "executionInfo": {
     "elapsed": 353,
     "status": "ok",
     "timestamp": 1639736643139,
     "user": {
      "displayName": "Luan Nguyen",
      "photoUrl": "https://lh3.googleusercontent.com/a-/AOh14GhXUOKNXLamlM5uNy_sScEB1mcsPUamZM3rX6cf=s64",
      "userId": "06060548113046134760"
     },
     "user_tz": -420
    },
    "id": "CIuDt_NAaGOO",
    "outputId": "8cb6a61b-5bc2-4f73-a1c8-bd71474fdf42"
   },
   "outputs": [
    {
     "name": "stdout",
     "output_type": "stream",
     "text": [
      "Target id is exists\n",
      "The target index:  Int64Index([0], dtype='int64')\n",
      "the target id in data:  0    862\n",
      "Name: id, dtype: int64\n"
     ]
    }
   ],
   "source": [
    "recommendation = tfidf.recommend(target_id=862)"
   ]
  },
  {
   "cell_type": "code",
   "execution_count": 41,
   "metadata": {
    "colab": {
     "base_uri": "https://localhost:8080/",
     "height": 81
    },
    "executionInfo": {
     "elapsed": 396,
     "status": "ok",
     "timestamp": 1639736645835,
     "user": {
      "displayName": "Luan Nguyen",
      "photoUrl": "https://lh3.googleusercontent.com/a-/AOh14GhXUOKNXLamlM5uNy_sScEB1mcsPUamZM3rX6cf=s64",
      "userId": "06060548113046134760"
     },
     "user_tz": -420
    },
    "id": "Npy0tcDpVr0B",
    "outputId": "b6b36b3b-9510-43c2-ea80-28d1baba3826"
   },
   "outputs": [
    {
     "data": {
      "text/html": [
       "\n",
       "  <div id=\"df-4b4fa5d5-e7aa-4cd9-8c56-6ab7562e7d23\">\n",
       "    <div class=\"colab-df-container\">\n",
       "      <div>\n",
       "<style scoped>\n",
       "    .dataframe tbody tr th:only-of-type {\n",
       "        vertical-align: middle;\n",
       "    }\n",
       "\n",
       "    .dataframe tbody tr th {\n",
       "        vertical-align: top;\n",
       "    }\n",
       "\n",
       "    .dataframe thead th {\n",
       "        text-align: right;\n",
       "    }\n",
       "</style>\n",
       "<table border=\"1\" class=\"dataframe\">\n",
       "  <thead>\n",
       "    <tr style=\"text-align: right;\">\n",
       "      <th></th>\n",
       "      <th>movie_id</th>\n",
       "      <th>imdb_id</th>\n",
       "      <th>title</th>\n",
       "      <th>overview</th>\n",
       "      <th>release_date</th>\n",
       "      <th>poster_paths</th>\n",
       "    </tr>\n",
       "  </thead>\n",
       "  <tbody>\n",
       "    <tr>\n",
       "      <th>0</th>\n",
       "      <td>862</td>\n",
       "      <td>tt0114709</td>\n",
       "      <td>Toy Story</td>\n",
       "      <td>Led by Woody, Andy's toys live happily in his ...</td>\n",
       "      <td>1995-10-30</td>\n",
       "      <td>/7G9915LfUQ2lVfwMEEhDsn3kT4B.jpg</td>\n",
       "    </tr>\n",
       "  </tbody>\n",
       "</table>\n",
       "</div>\n",
       "      <button class=\"colab-df-convert\" onclick=\"convertToInteractive('df-4b4fa5d5-e7aa-4cd9-8c56-6ab7562e7d23')\"\n",
       "              title=\"Convert this dataframe to an interactive table.\"\n",
       "              style=\"display:none;\">\n",
       "        \n",
       "  <svg xmlns=\"http://www.w3.org/2000/svg\" height=\"24px\"viewBox=\"0 0 24 24\"\n",
       "       width=\"24px\">\n",
       "    <path d=\"M0 0h24v24H0V0z\" fill=\"none\"/>\n",
       "    <path d=\"M18.56 5.44l.94 2.06.94-2.06 2.06-.94-2.06-.94-.94-2.06-.94 2.06-2.06.94zm-11 1L8.5 8.5l.94-2.06 2.06-.94-2.06-.94L8.5 2.5l-.94 2.06-2.06.94zm10 10l.94 2.06.94-2.06 2.06-.94-2.06-.94-.94-2.06-.94 2.06-2.06.94z\"/><path d=\"M17.41 7.96l-1.37-1.37c-.4-.4-.92-.59-1.43-.59-.52 0-1.04.2-1.43.59L10.3 9.45l-7.72 7.72c-.78.78-.78 2.05 0 2.83L4 21.41c.39.39.9.59 1.41.59.51 0 1.02-.2 1.41-.59l7.78-7.78 2.81-2.81c.8-.78.8-2.07 0-2.86zM5.41 20L4 18.59l7.72-7.72 1.47 1.35L5.41 20z\"/>\n",
       "  </svg>\n",
       "      </button>\n",
       "      \n",
       "  <style>\n",
       "    .colab-df-container {\n",
       "      display:flex;\n",
       "      flex-wrap:wrap;\n",
       "      gap: 12px;\n",
       "    }\n",
       "\n",
       "    .colab-df-convert {\n",
       "      background-color: #E8F0FE;\n",
       "      border: none;\n",
       "      border-radius: 50%;\n",
       "      cursor: pointer;\n",
       "      display: none;\n",
       "      fill: #1967D2;\n",
       "      height: 32px;\n",
       "      padding: 0 0 0 0;\n",
       "      width: 32px;\n",
       "    }\n",
       "\n",
       "    .colab-df-convert:hover {\n",
       "      background-color: #E2EBFA;\n",
       "      box-shadow: 0px 1px 2px rgba(60, 64, 67, 0.3), 0px 1px 3px 1px rgba(60, 64, 67, 0.15);\n",
       "      fill: #174EA6;\n",
       "    }\n",
       "\n",
       "    [theme=dark] .colab-df-convert {\n",
       "      background-color: #3B4455;\n",
       "      fill: #D2E3FC;\n",
       "    }\n",
       "\n",
       "    [theme=dark] .colab-df-convert:hover {\n",
       "      background-color: #434B5C;\n",
       "      box-shadow: 0px 1px 3px 1px rgba(0, 0, 0, 0.15);\n",
       "      filter: drop-shadow(0px 1px 2px rgba(0, 0, 0, 0.3));\n",
       "      fill: #FFFFFF;\n",
       "    }\n",
       "  </style>\n",
       "\n",
       "      <script>\n",
       "        const buttonEl =\n",
       "          document.querySelector('#df-4b4fa5d5-e7aa-4cd9-8c56-6ab7562e7d23 button.colab-df-convert');\n",
       "        buttonEl.style.display =\n",
       "          google.colab.kernel.accessAllowed ? 'block' : 'none';\n",
       "\n",
       "        async function convertToInteractive(key) {\n",
       "          const element = document.querySelector('#df-4b4fa5d5-e7aa-4cd9-8c56-6ab7562e7d23');\n",
       "          const dataTable =\n",
       "            await google.colab.kernel.invokeFunction('convertToInteractive',\n",
       "                                                     [key], {});\n",
       "          if (!dataTable) return;\n",
       "\n",
       "          const docLinkHtml = 'Like what you see? Visit the ' +\n",
       "            '<a target=\"_blank\" href=https://colab.research.google.com/notebooks/data_table.ipynb>data table notebook</a>'\n",
       "            + ' to learn more about interactive tables.';\n",
       "          element.innerHTML = '';\n",
       "          dataTable['output_type'] = 'display_data';\n",
       "          await google.colab.output.renderOutput(dataTable, element);\n",
       "          const docLink = document.createElement('div');\n",
       "          docLink.innerHTML = docLinkHtml;\n",
       "          element.appendChild(docLink);\n",
       "        }\n",
       "      </script>\n",
       "    </div>\n",
       "  </div>\n",
       "  "
      ],
      "text/plain": [
       "   movie_id    imdb_id  ... release_date                      poster_paths\n",
       "0       862  tt0114709  ...   1995-10-30  /7G9915LfUQ2lVfwMEEhDsn3kT4B.jpg\n",
       "\n",
       "[1 rows x 6 columns]"
      ]
     },
     "execution_count": 41,
     "metadata": {},
     "output_type": "execute_result"
    }
   ],
   "source": [
    "movies[movies['movie_id']==862]"
   ]
  },
  {
   "cell_type": "code",
   "execution_count": 42,
   "metadata": {
    "colab": {
     "base_uri": "https://localhost:8080/",
     "height": 363
    },
    "executionInfo": {
     "elapsed": 9,
     "status": "ok",
     "timestamp": 1639736647531,
     "user": {
      "displayName": "Luan Nguyen",
      "photoUrl": "https://lh3.googleusercontent.com/a-/AOh14GhXUOKNXLamlM5uNy_sScEB1mcsPUamZM3rX6cf=s64",
      "userId": "06060548113046134760"
     },
     "user_tz": -420
    },
    "id": "-3QhbZg_WDJJ",
    "outputId": "e3261059-d38d-4818-fedb-70429ba1a36a"
   },
   "outputs": [
    {
     "data": {
      "text/html": [
       "\n",
       "  <div id=\"df-48360fb2-01b9-4dfc-ab56-da09ad7fef8d\">\n",
       "    <div class=\"colab-df-container\">\n",
       "      <div>\n",
       "<style scoped>\n",
       "    .dataframe tbody tr th:only-of-type {\n",
       "        vertical-align: middle;\n",
       "    }\n",
       "\n",
       "    .dataframe tbody tr th {\n",
       "        vertical-align: top;\n",
       "    }\n",
       "\n",
       "    .dataframe thead th {\n",
       "        text-align: right;\n",
       "    }\n",
       "</style>\n",
       "<table border=\"1\" class=\"dataframe\">\n",
       "  <thead>\n",
       "    <tr style=\"text-align: right;\">\n",
       "      <th></th>\n",
       "      <th>movie_id</th>\n",
       "      <th>imdb_id</th>\n",
       "      <th>title</th>\n",
       "      <th>overview</th>\n",
       "      <th>release_date</th>\n",
       "      <th>poster_paths</th>\n",
       "    </tr>\n",
       "  </thead>\n",
       "  <tbody>\n",
       "    <tr>\n",
       "      <th>2721</th>\n",
       "      <td>1571</td>\n",
       "      <td>tt0337978</td>\n",
       "      <td>Live Free or Die Hard</td>\n",
       "      <td>John McClane is back and badder than ever, and...</td>\n",
       "      <td>2007-06-20</td>\n",
       "      <td>/dQP1lu4tBtCiAMeCRcuTFpJiM7y.jpg</td>\n",
       "    </tr>\n",
       "    <tr>\n",
       "      <th>3226</th>\n",
       "      <td>31687</td>\n",
       "      <td>tt1520496</td>\n",
       "      <td>Circle of Eight</td>\n",
       "      <td>Jessica moves into a loft on the eighth floor ...</td>\n",
       "      <td>2009-10-27</td>\n",
       "      <td>NaN</td>\n",
       "    </tr>\n",
       "    <tr>\n",
       "      <th>3229</th>\n",
       "      <td>111310</td>\n",
       "      <td>tt0025607</td>\n",
       "      <td>Operator 13</td>\n",
       "      <td>Union spy Gail Loveless impersonates a black m...</td>\n",
       "      <td>1934-06-08</td>\n",
       "      <td>NaN</td>\n",
       "    </tr>\n",
       "    <tr>\n",
       "      <th>3230</th>\n",
       "      <td>94917</td>\n",
       "      <td>tt0055489</td>\n",
       "      <td>Summer and Smoke</td>\n",
       "      <td>In a small Mississippi town in 1916, an eccent...</td>\n",
       "      <td>1961-11-16</td>\n",
       "      <td>NaN</td>\n",
       "    </tr>\n",
       "    <tr>\n",
       "      <th>3231</th>\n",
       "      <td>107643</td>\n",
       "      <td>tt0418815</td>\n",
       "      <td>Bloody Territories</td>\n",
       "      <td>A once-powerful yakuza clan disbands as a resu...</td>\n",
       "      <td>1969-07-26</td>\n",
       "      <td>NaN</td>\n",
       "    </tr>\n",
       "    <tr>\n",
       "      <th>3232</th>\n",
       "      <td>44399</td>\n",
       "      <td>tt0033405</td>\n",
       "      <td>Blood and Sand</td>\n",
       "      <td>Bullfighter Juan Gallardo falls for socialite ...</td>\n",
       "      <td>1941-05-30</td>\n",
       "      <td>NaN</td>\n",
       "    </tr>\n",
       "    <tr>\n",
       "      <th>3233</th>\n",
       "      <td>32084</td>\n",
       "      <td>tt1483831</td>\n",
       "      <td>Lebanon</td>\n",
       "      <td>June, 1982 - The First Lebanon War. A lone tan...</td>\n",
       "      <td>2009-10-10</td>\n",
       "      <td>NaN</td>\n",
       "    </tr>\n",
       "    <tr>\n",
       "      <th>3234</th>\n",
       "      <td>42191</td>\n",
       "      <td>tt0037832</td>\n",
       "      <td>Johnny Angel</td>\n",
       "      <td>George Raft plays a sailor who sets out to sol...</td>\n",
       "      <td>1945-10-24</td>\n",
       "      <td>NaN</td>\n",
       "    </tr>\n",
       "    <tr>\n",
       "      <th>3237</th>\n",
       "      <td>1549</td>\n",
       "      <td>tt0338977</td>\n",
       "      <td>Games of Love and Chance</td>\n",
       "      <td>The life of a band of teenager in a suburb nea...</td>\n",
       "      <td>2003-11-25</td>\n",
       "      <td>NaN</td>\n",
       "    </tr>\n",
       "    <tr>\n",
       "      <th>3238</th>\n",
       "      <td>26694</td>\n",
       "      <td>tt0956101</td>\n",
       "      <td>Big River Man</td>\n",
       "      <td>Follows Martin Strel as he attempts to cover 3...</td>\n",
       "      <td>2009-01-15</td>\n",
       "      <td>NaN</td>\n",
       "    </tr>\n",
       "  </tbody>\n",
       "</table>\n",
       "</div>\n",
       "      <button class=\"colab-df-convert\" onclick=\"convertToInteractive('df-48360fb2-01b9-4dfc-ab56-da09ad7fef8d')\"\n",
       "              title=\"Convert this dataframe to an interactive table.\"\n",
       "              style=\"display:none;\">\n",
       "        \n",
       "  <svg xmlns=\"http://www.w3.org/2000/svg\" height=\"24px\"viewBox=\"0 0 24 24\"\n",
       "       width=\"24px\">\n",
       "    <path d=\"M0 0h24v24H0V0z\" fill=\"none\"/>\n",
       "    <path d=\"M18.56 5.44l.94 2.06.94-2.06 2.06-.94-2.06-.94-.94-2.06-.94 2.06-2.06.94zm-11 1L8.5 8.5l.94-2.06 2.06-.94-2.06-.94L8.5 2.5l-.94 2.06-2.06.94zm10 10l.94 2.06.94-2.06 2.06-.94-2.06-.94-.94-2.06-.94 2.06-2.06.94z\"/><path d=\"M17.41 7.96l-1.37-1.37c-.4-.4-.92-.59-1.43-.59-.52 0-1.04.2-1.43.59L10.3 9.45l-7.72 7.72c-.78.78-.78 2.05 0 2.83L4 21.41c.39.39.9.59 1.41.59.51 0 1.02-.2 1.41-.59l7.78-7.78 2.81-2.81c.8-.78.8-2.07 0-2.86zM5.41 20L4 18.59l7.72-7.72 1.47 1.35L5.41 20z\"/>\n",
       "  </svg>\n",
       "      </button>\n",
       "      \n",
       "  <style>\n",
       "    .colab-df-container {\n",
       "      display:flex;\n",
       "      flex-wrap:wrap;\n",
       "      gap: 12px;\n",
       "    }\n",
       "\n",
       "    .colab-df-convert {\n",
       "      background-color: #E8F0FE;\n",
       "      border: none;\n",
       "      border-radius: 50%;\n",
       "      cursor: pointer;\n",
       "      display: none;\n",
       "      fill: #1967D2;\n",
       "      height: 32px;\n",
       "      padding: 0 0 0 0;\n",
       "      width: 32px;\n",
       "    }\n",
       "\n",
       "    .colab-df-convert:hover {\n",
       "      background-color: #E2EBFA;\n",
       "      box-shadow: 0px 1px 2px rgba(60, 64, 67, 0.3), 0px 1px 3px 1px rgba(60, 64, 67, 0.15);\n",
       "      fill: #174EA6;\n",
       "    }\n",
       "\n",
       "    [theme=dark] .colab-df-convert {\n",
       "      background-color: #3B4455;\n",
       "      fill: #D2E3FC;\n",
       "    }\n",
       "\n",
       "    [theme=dark] .colab-df-convert:hover {\n",
       "      background-color: #434B5C;\n",
       "      box-shadow: 0px 1px 3px 1px rgba(0, 0, 0, 0.15);\n",
       "      filter: drop-shadow(0px 1px 2px rgba(0, 0, 0, 0.3));\n",
       "      fill: #FFFFFF;\n",
       "    }\n",
       "  </style>\n",
       "\n",
       "      <script>\n",
       "        const buttonEl =\n",
       "          document.querySelector('#df-48360fb2-01b9-4dfc-ab56-da09ad7fef8d button.colab-df-convert');\n",
       "        buttonEl.style.display =\n",
       "          google.colab.kernel.accessAllowed ? 'block' : 'none';\n",
       "\n",
       "        async function convertToInteractive(key) {\n",
       "          const element = document.querySelector('#df-48360fb2-01b9-4dfc-ab56-da09ad7fef8d');\n",
       "          const dataTable =\n",
       "            await google.colab.kernel.invokeFunction('convertToInteractive',\n",
       "                                                     [key], {});\n",
       "          if (!dataTable) return;\n",
       "\n",
       "          const docLinkHtml = 'Like what you see? Visit the ' +\n",
       "            '<a target=\"_blank\" href=https://colab.research.google.com/notebooks/data_table.ipynb>data table notebook</a>'\n",
       "            + ' to learn more about interactive tables.';\n",
       "          element.innerHTML = '';\n",
       "          dataTable['output_type'] = 'display_data';\n",
       "          await google.colab.output.renderOutput(dataTable, element);\n",
       "          const docLink = document.createElement('div');\n",
       "          docLink.innerHTML = docLinkHtml;\n",
       "          element.appendChild(docLink);\n",
       "        }\n",
       "      </script>\n",
       "    </div>\n",
       "  </div>\n",
       "  "
      ],
      "text/plain": [
       "      movie_id    imdb_id  ... release_date                      poster_paths\n",
       "2721      1571  tt0337978  ...   2007-06-20  /dQP1lu4tBtCiAMeCRcuTFpJiM7y.jpg\n",
       "3226     31687  tt1520496  ...   2009-10-27                               NaN\n",
       "3229    111310  tt0025607  ...   1934-06-08                               NaN\n",
       "3230     94917  tt0055489  ...   1961-11-16                               NaN\n",
       "3231    107643  tt0418815  ...   1969-07-26                               NaN\n",
       "3232     44399  tt0033405  ...   1941-05-30                               NaN\n",
       "3233     32084  tt1483831  ...   2009-10-10                               NaN\n",
       "3234     42191  tt0037832  ...   1945-10-24                               NaN\n",
       "3237      1549  tt0338977  ...   2003-11-25                               NaN\n",
       "3238     26694  tt0956101  ...   2009-01-15                               NaN\n",
       "\n",
       "[10 rows x 6 columns]"
      ]
     },
     "execution_count": 42,
     "metadata": {},
     "output_type": "execute_result"
    }
   ],
   "source": [
    "movies[movies['movie_id'].isin(recommendation)]"
   ]
  },
  {
   "cell_type": "code",
   "execution_count": null,
   "metadata": {
    "id": "VI4M-Voraltm"
   },
   "outputs": [],
   "source": [
    "tfidf.saveTFIDF('./model/tfidf')"
   ]
  },
  {
   "cell_type": "code",
   "execution_count": null,
   "metadata": {
    "id": "Gtvzfa2pn-g4"
   },
   "outputs": [],
   "source": [
    "load_tfidf = loadTFIDF('./model/tfidf')"
   ]
  },
  {
   "cell_type": "code",
   "execution_count": null,
   "metadata": {
    "colab": {
     "base_uri": "https://localhost:8080/"
    },
    "executionInfo": {
     "elapsed": 459,
     "status": "ok",
     "timestamp": 1639727725323,
     "user": {
      "displayName": "Luan Nguyen",
      "photoUrl": "https://lh3.googleusercontent.com/a-/AOh14GhXUOKNXLamlM5uNy_sScEB1mcsPUamZM3rX6cf=s64",
      "userId": "06060548113046134760"
     },
     "user_tz": -420
    },
    "id": "swkEbPftrq_g",
    "outputId": "6d4f65ae-8c1c-44a5-f0ed-c11b7ade7410"
   },
   "outputs": [
    {
     "data": {
      "text/plain": [
       "['Target id is not exists']"
      ]
     },
     "execution_count": 84,
     "metadata": {},
     "output_type": "execute_result"
    }
   ],
   "source": [
    "load_tfidf.recommend(44919)"
   ]
  },
  {
   "cell_type": "code",
   "execution_count": null,
   "metadata": {
    "colab": {
     "base_uri": "https://localhost:8080/"
    },
    "executionInfo": {
     "elapsed": 14,
     "status": "ok",
     "timestamp": 1639727739416,
     "user": {
      "displayName": "Luan Nguyen",
      "photoUrl": "https://lh3.googleusercontent.com/a-/AOh14GhXUOKNXLamlM5uNy_sScEB1mcsPUamZM3rX6cf=s64",
      "userId": "06060548113046134760"
     },
     "user_tz": -420
    },
    "id": "nkM3C5u-saQ-",
    "outputId": "04e4a6a5-036f-435b-e6c2-7dc43bb1b040"
   },
   "outputs": [
    {
     "name": "stdout",
     "output_type": "stream",
     "text": [
      "Target id is exists\n",
      "The target index:  Int64Index([3219], dtype='int64')\n",
      "the target id in data:  3219    107643\n",
      "Name: id, dtype: int64\n"
     ]
    }
   ],
   "source": [
    "recommendation = load_tfidf.recommend(target_id=107643)"
   ]
  }
 ],
 "metadata": {
  "colab": {
   "collapsed_sections": [],
   "machine_shape": "hm",
   "name": "tfidf_25gb.ipynb",
   "provenance": [
    {
     "file_id": "https://github.com/Santosh-Gupta/NaturalLanguageRecommendations/blob/master/notebooks/inference/DemoNaturalLanguageRecommendationsCPU_Autofeedback.ipynb",
     "timestamp": 1639641984669
    }
   ]
  },
  "kernelspec": {
   "display_name": "Python 3",
   "language": "python",
   "name": "python3"
  },
  "language_info": {
   "codemirror_mode": {
    "name": "ipython",
    "version": 3
   },
   "file_extension": ".py",
   "mimetype": "text/x-python",
   "name": "python",
   "nbconvert_exporter": "python",
   "pygments_lexer": "ipython3",
   "version": "3.7.4"
  }
 },
 "nbformat": 4,
 "nbformat_minor": 1
}
